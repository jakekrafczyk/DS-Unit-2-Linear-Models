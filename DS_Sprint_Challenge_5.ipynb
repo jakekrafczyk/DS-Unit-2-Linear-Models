{
  "nbformat": 4,
  "nbformat_minor": 0,
  "metadata": {
    "colab": {
      "name": "Copy of DS_Sprint_Challenge_5.ipynb",
      "provenance": [],
      "collapsed_sections": [],
      "include_colab_link": true
    },
    "kernelspec": {
      "display_name": "Python 3",
      "language": "python",
      "name": "python3"
    },
    "language_info": {
      "codemirror_mode": {
        "name": "ipython",
        "version": 3
      },
      "file_extension": ".py",
      "mimetype": "text/x-python",
      "name": "python",
      "nbconvert_exporter": "python",
      "pygments_lexer": "ipython3",
      "version": "3.7.3"
    }
  },
  "cells": [
    {
      "cell_type": "markdown",
      "metadata": {
        "id": "view-in-github",
        "colab_type": "text"
      },
      "source": [
        "<a href=\"https://colab.research.google.com/github/jakekrafczyk/DS-Unit-2-Linear-Models/blob/master/DS_Sprint_Challenge_5.ipynb\" target=\"_parent\"><img src=\"https://colab.research.google.com/assets/colab-badge.svg\" alt=\"Open In Colab\"/></a>"
      ]
    },
    {
      "cell_type": "markdown",
      "metadata": {
        "colab_type": "text",
        "id": "VZf2akBaMjq8"
      },
      "source": [
        "_Lambda School Data Science, Unit 2_\n",
        " \n",
        "# Linear Models Sprint Challenge\n",
        "\n",
        "To demonstrate mastery on your Sprint Challenge, do all the required, numbered instructions in this notebook.\n",
        "\n",
        "To earn a score of \"3\", also do all the stretch goals.\n",
        "\n",
        "You are permitted and encouraged to do as much data exploration as you want."
      ]
    },
    {
      "cell_type": "markdown",
      "metadata": {
        "colab_type": "text",
        "id": "20OITf58NLQh"
      },
      "source": [
        "### Part 1, Classification\n",
        "- 1.1. Do train/test split. Arrange data into X features matrix and y target vector\n",
        "- 1.2. Use scikit-learn to fit a logistic regression model\n",
        "- 1.3. Report classification metric: accuracy\n",
        "\n",
        "### Part 2, Regression\n",
        "- 2.1. Begin with baselines for regression\n",
        "- 2.2. Do train/validate/test split\n",
        "- 2.3. Arrange data into X features matrix and y target vector\n",
        "- 2.4. Do one-hot encoding\n",
        "- 2.5. Use scikit-learn to fit a linear regression or ridge regression model\n",
        "- 2.6. Report validation MAE and $R^2$\n",
        "\n",
        "### Stretch Goals, Regression\n",
        "- Make at least 2 visualizations to explore relationships between features and target. You may use any visualization library\n",
        "- Try at least 3 feature combinations. You may select features manually, or automatically\n",
        "- Report validation MAE and $R^2$ for each feature combination you try\n",
        "- Report test MAE and $R^2$ for your final model\n",
        "- Print or plot the coefficients for the features in your model"
      ]
    },
    {
      "cell_type": "code",
      "metadata": {
        "colab_type": "code",
        "id": "BxoFSeX5OX5k",
        "colab": {}
      },
      "source": [
        "# If you're in Colab...\n",
        "import sys\n",
        "if 'google.colab' in sys.modules:\n",
        "    !pip install category_encoders==2.*\n",
        "    !pip install pandas-profiling==2.*\n",
        "    !pip install plotly==4.*"
      ],
      "execution_count": 0,
      "outputs": []
    },
    {
      "cell_type": "markdown",
      "metadata": {
        "colab_type": "text",
        "id": "Q7u1KtsnOi78"
      },
      "source": [
        "# Part 1, Classification: Predict Blood Donations 🚑\n",
        "Our dataset is from a mobile blood donation vehicle in Taiwan. The Blood Transfusion Service Center drives to different universities and collects blood as part of a blood drive.\n",
        "\n",
        "The goal is to predict whether the donor made a donation in March 2007, using information about each donor's history.\n",
        "\n",
        "Good data-driven systems for tracking and predicting donations and supply needs can improve the entire supply chain, making sure that more patients get the blood transfusions they need."
      ]
    },
    {
      "cell_type": "code",
      "metadata": {
        "colab_type": "code",
        "id": "gJzpgv-fO4rh",
        "colab": {}
      },
      "source": [
        "import pandas as pd\n",
        "\n",
        "donors = pd.read_csv('https://archive.ics.uci.edu/ml/machine-learning-databases/blood-transfusion/transfusion.data')\n",
        "assert donors.shape == (748,5)\n",
        "\n",
        "donors = donors.rename(columns={\n",
        "    'Recency (months)': 'months_since_last_donation', \n",
        "    'Frequency (times)': 'number_of_donations', \n",
        "    'Monetary (c.c. blood)': 'total_volume_donated', \n",
        "    'Time (months)': 'months_since_first_donation', \n",
        "    'whether he/she donated blood in March 2007': 'made_donation_in_march_2007'\n",
        "})"
      ],
      "execution_count": 0,
      "outputs": []
    },
    {
      "cell_type": "markdown",
      "metadata": {
        "colab_type": "text",
        "id": "oU4oE0LJMG7X"
      },
      "source": [
        "Notice that the majority class (did not donate blood in March 2007) occurs about 3/4 of the time. \n",
        "\n",
        "This is the accuracy score for the \"majority class baseline\" (the accuracy score we'd get by just guessing the majority class every time)."
      ]
    },
    {
      "cell_type": "code",
      "metadata": {
        "colab_type": "code",
        "id": "TgRp5slvLzJs",
        "outputId": "484ee483-d682-4dd3-9c34-f403a78b7af5",
        "colab": {
          "base_uri": "https://localhost:8080/",
          "height": 68
        }
      },
      "source": [
        "donors['made_donation_in_march_2007'].value_counts(normalize=True)"
      ],
      "execution_count": 0,
      "outputs": [
        {
          "output_type": "execute_result",
          "data": {
            "text/plain": [
              "0    0.762032\n",
              "1    0.237968\n",
              "Name: made_donation_in_march_2007, dtype: float64"
            ]
          },
          "metadata": {
            "tags": []
          },
          "execution_count": 3
        }
      ]
    },
    {
      "cell_type": "markdown",
      "metadata": {
        "colab_type": "text",
        "id": "P66Fpcq1PYZl"
      },
      "source": [
        "## 1.1. Do train/test split. Arrange data into X features matrix and y target vector\n",
        "\n",
        "Do these steps in either order.\n",
        "\n",
        "Use scikit-learn's train/test split function to split randomly. (You can include 75% of the data in the train set, and hold out 25% for the test set, which is the default.)"
      ]
    },
    {
      "cell_type": "code",
      "metadata": {
        "id": "mK8fKjwbdIGO",
        "colab_type": "code",
        "colab": {
          "base_uri": "https://localhost:8080/",
          "height": 204
        },
        "outputId": "038fd0c3-dfca-4168-f966-a528558d901d"
      },
      "source": [
        "donors.head()"
      ],
      "execution_count": 5,
      "outputs": [
        {
          "output_type": "execute_result",
          "data": {
            "text/html": [
              "<div>\n",
              "<style scoped>\n",
              "    .dataframe tbody tr th:only-of-type {\n",
              "        vertical-align: middle;\n",
              "    }\n",
              "\n",
              "    .dataframe tbody tr th {\n",
              "        vertical-align: top;\n",
              "    }\n",
              "\n",
              "    .dataframe thead th {\n",
              "        text-align: right;\n",
              "    }\n",
              "</style>\n",
              "<table border=\"1\" class=\"dataframe\">\n",
              "  <thead>\n",
              "    <tr style=\"text-align: right;\">\n",
              "      <th></th>\n",
              "      <th>months_since_last_donation</th>\n",
              "      <th>number_of_donations</th>\n",
              "      <th>total_volume_donated</th>\n",
              "      <th>months_since_first_donation</th>\n",
              "      <th>made_donation_in_march_2007</th>\n",
              "    </tr>\n",
              "  </thead>\n",
              "  <tbody>\n",
              "    <tr>\n",
              "      <th>0</th>\n",
              "      <td>2</td>\n",
              "      <td>50</td>\n",
              "      <td>12500</td>\n",
              "      <td>98</td>\n",
              "      <td>1</td>\n",
              "    </tr>\n",
              "    <tr>\n",
              "      <th>1</th>\n",
              "      <td>0</td>\n",
              "      <td>13</td>\n",
              "      <td>3250</td>\n",
              "      <td>28</td>\n",
              "      <td>1</td>\n",
              "    </tr>\n",
              "    <tr>\n",
              "      <th>2</th>\n",
              "      <td>1</td>\n",
              "      <td>16</td>\n",
              "      <td>4000</td>\n",
              "      <td>35</td>\n",
              "      <td>1</td>\n",
              "    </tr>\n",
              "    <tr>\n",
              "      <th>3</th>\n",
              "      <td>2</td>\n",
              "      <td>20</td>\n",
              "      <td>5000</td>\n",
              "      <td>45</td>\n",
              "      <td>1</td>\n",
              "    </tr>\n",
              "    <tr>\n",
              "      <th>4</th>\n",
              "      <td>1</td>\n",
              "      <td>24</td>\n",
              "      <td>6000</td>\n",
              "      <td>77</td>\n",
              "      <td>0</td>\n",
              "    </tr>\n",
              "  </tbody>\n",
              "</table>\n",
              "</div>"
            ],
            "text/plain": [
              "   months_since_last_donation  ...  made_donation_in_march_2007\n",
              "0                           2  ...                            1\n",
              "1                           0  ...                            1\n",
              "2                           1  ...                            1\n",
              "3                           2  ...                            1\n",
              "4                           1  ...                            0\n",
              "\n",
              "[5 rows x 5 columns]"
            ]
          },
          "metadata": {
            "tags": []
          },
          "execution_count": 5
        }
      ]
    },
    {
      "cell_type": "code",
      "metadata": {
        "id": "jtDQqRcGdMyM",
        "colab_type": "code",
        "colab": {
          "base_uri": "https://localhost:8080/",
          "height": 297
        },
        "outputId": "8d182f3a-6dbf-4e96-a418-e8c168b69bf1"
      },
      "source": [
        "donors.describe()"
      ],
      "execution_count": 6,
      "outputs": [
        {
          "output_type": "execute_result",
          "data": {
            "text/html": [
              "<div>\n",
              "<style scoped>\n",
              "    .dataframe tbody tr th:only-of-type {\n",
              "        vertical-align: middle;\n",
              "    }\n",
              "\n",
              "    .dataframe tbody tr th {\n",
              "        vertical-align: top;\n",
              "    }\n",
              "\n",
              "    .dataframe thead th {\n",
              "        text-align: right;\n",
              "    }\n",
              "</style>\n",
              "<table border=\"1\" class=\"dataframe\">\n",
              "  <thead>\n",
              "    <tr style=\"text-align: right;\">\n",
              "      <th></th>\n",
              "      <th>months_since_last_donation</th>\n",
              "      <th>number_of_donations</th>\n",
              "      <th>total_volume_donated</th>\n",
              "      <th>months_since_first_donation</th>\n",
              "      <th>made_donation_in_march_2007</th>\n",
              "    </tr>\n",
              "  </thead>\n",
              "  <tbody>\n",
              "    <tr>\n",
              "      <th>count</th>\n",
              "      <td>748.000000</td>\n",
              "      <td>748.000000</td>\n",
              "      <td>748.000000</td>\n",
              "      <td>748.000000</td>\n",
              "      <td>748.000000</td>\n",
              "    </tr>\n",
              "    <tr>\n",
              "      <th>mean</th>\n",
              "      <td>9.506684</td>\n",
              "      <td>5.514706</td>\n",
              "      <td>1378.676471</td>\n",
              "      <td>34.282086</td>\n",
              "      <td>0.237968</td>\n",
              "    </tr>\n",
              "    <tr>\n",
              "      <th>std</th>\n",
              "      <td>8.095396</td>\n",
              "      <td>5.839307</td>\n",
              "      <td>1459.826781</td>\n",
              "      <td>24.376714</td>\n",
              "      <td>0.426124</td>\n",
              "    </tr>\n",
              "    <tr>\n",
              "      <th>min</th>\n",
              "      <td>0.000000</td>\n",
              "      <td>1.000000</td>\n",
              "      <td>250.000000</td>\n",
              "      <td>2.000000</td>\n",
              "      <td>0.000000</td>\n",
              "    </tr>\n",
              "    <tr>\n",
              "      <th>25%</th>\n",
              "      <td>2.750000</td>\n",
              "      <td>2.000000</td>\n",
              "      <td>500.000000</td>\n",
              "      <td>16.000000</td>\n",
              "      <td>0.000000</td>\n",
              "    </tr>\n",
              "    <tr>\n",
              "      <th>50%</th>\n",
              "      <td>7.000000</td>\n",
              "      <td>4.000000</td>\n",
              "      <td>1000.000000</td>\n",
              "      <td>28.000000</td>\n",
              "      <td>0.000000</td>\n",
              "    </tr>\n",
              "    <tr>\n",
              "      <th>75%</th>\n",
              "      <td>14.000000</td>\n",
              "      <td>7.000000</td>\n",
              "      <td>1750.000000</td>\n",
              "      <td>50.000000</td>\n",
              "      <td>0.000000</td>\n",
              "    </tr>\n",
              "    <tr>\n",
              "      <th>max</th>\n",
              "      <td>74.000000</td>\n",
              "      <td>50.000000</td>\n",
              "      <td>12500.000000</td>\n",
              "      <td>98.000000</td>\n",
              "      <td>1.000000</td>\n",
              "    </tr>\n",
              "  </tbody>\n",
              "</table>\n",
              "</div>"
            ],
            "text/plain": [
              "       months_since_last_donation  ...  made_donation_in_march_2007\n",
              "count                  748.000000  ...                   748.000000\n",
              "mean                     9.506684  ...                     0.237968\n",
              "std                      8.095396  ...                     0.426124\n",
              "min                      0.000000  ...                     0.000000\n",
              "25%                      2.750000  ...                     0.000000\n",
              "50%                      7.000000  ...                     0.000000\n",
              "75%                     14.000000  ...                     0.000000\n",
              "max                     74.000000  ...                     1.000000\n",
              "\n",
              "[8 rows x 5 columns]"
            ]
          },
          "metadata": {
            "tags": []
          },
          "execution_count": 6
        }
      ]
    },
    {
      "cell_type": "code",
      "metadata": {
        "colab_type": "code",
        "id": "InhicZeZPX8L",
        "colab": {
          "base_uri": "https://localhost:8080/",
          "height": 255
        },
        "outputId": "4938abf7-9d41-4233-f81a-813d88fad88e"
      },
      "source": [
        "from sklearn.model_selection import train_test_split\n",
        "target = 'made_donation_in_march_2007'\n",
        "features = ['number_of_donations','months_since_last_donation']\n",
        "y = donors[target]\n",
        "X = donors[features]\n",
        "\n",
        "\n",
        "X_train, X_test, y_train, y_test = train_test_split(X, y, random_state=0)\n",
        "print(X_train)"
      ],
      "execution_count": 73,
      "outputs": [
        {
          "output_type": "stream",
          "text": [
            "     number_of_donations  months_since_last_donation\n",
            "449                    3                          16\n",
            "235                   10                           8\n",
            "325                    2                          14\n",
            "77                     2                           2\n",
            "363                   13                          21\n",
            "..                   ...                         ...\n",
            "707                    4                          11\n",
            "192                    4                           2\n",
            "629                   11                           7\n",
            "559                    8                           3\n",
            "684                    4                          16\n",
            "\n",
            "[561 rows x 2 columns]\n"
          ],
          "name": "stdout"
        }
      ]
    },
    {
      "cell_type": "code",
      "metadata": {
        "id": "tVPfjEgreGKq",
        "colab_type": "code",
        "colab": {
          "base_uri": "https://localhost:8080/",
          "height": 542
        },
        "outputId": "294a8d74-9b68-4cb2-b0c0-817f64a8ac80"
      },
      "source": [
        "import plotly.express as px\n",
        "px.scatter(X_train['number_of_donations'], X_train['months_since_last_donation'])"
      ],
      "execution_count": 74,
      "outputs": [
        {
          "output_type": "display_data",
          "data": {
            "text/html": [
              "<html>\n",
              "<head><meta charset=\"utf-8\" /></head>\n",
              "<body>\n",
              "    <div>\n",
              "            <script src=\"https://cdnjs.cloudflare.com/ajax/libs/mathjax/2.7.5/MathJax.js?config=TeX-AMS-MML_SVG\"></script><script type=\"text/javascript\">if (window.MathJax) {MathJax.Hub.Config({SVG: {font: \"STIX-Web\"}});}</script>\n",
              "                <script type=\"text/javascript\">window.PlotlyConfig = {MathJaxConfig: 'local'};</script>\n",
              "        <script src=\"https://cdn.plot.ly/plotly-latest.min.js\"></script>    \n",
              "            <div id=\"938a7ef7-8e20-4766-9153-dbb2b8f670b9\" class=\"plotly-graph-div\" style=\"height:525px; width:100%;\"></div>\n",
              "            <script type=\"text/javascript\">\n",
              "                \n",
              "                    window.PLOTLYENV=window.PLOTLYENV || {};\n",
              "                    \n",
              "                if (document.getElementById(\"938a7ef7-8e20-4766-9153-dbb2b8f670b9\")) {\n",
              "                    Plotly.newPlot(\n",
              "                        '938a7ef7-8e20-4766-9153-dbb2b8f670b9',\n",
              "                        [{\"hoverlabel\": {\"namelength\": 0}, \"hovertemplate\": \"x=%{x}\", \"legendgroup\": \"\", \"marker\": {\"color\": \"#636efa\", \"symbol\": \"circle\"}, \"mode\": \"markers\", \"name\": \"\", \"showlegend\": false, \"type\": \"scatter\", \"x\": [16, 8, 14, 2, 21, 11, 4, 2, 4, 2, 14, 8, 16, 4, 11, 23, 14, 11, 23, 23, 14, 2, 8, 2, 4, 2, 4, 12, 21, 11, 16, 4, 2, 11, 4, 6, 11, 4, 4, 2, 4, 2, 2, 11, 11, 23, 23, 4, 2, 11, 16, 4, 2, 4, 4, 2, 2, 11, 11, 4, 11, 11, 16, 3, 11, 2, 16, 4, 11, 2, 16, 14, 2, 2, 21, 21, 4, 14, 2, 11, 4, 21, 2, 11, 4, 4, 2, 38, 2, 40, 2, 10, 2, 4, 23, 14, 2, 23, 3, 7, 11, 16, 2, 14, 2, 2, 2, 2, 3, 16, 3, 4, 4, 4, 23, 4, 2, 4, 2, 16, 11, 21, 23, 2, 72, 4, 2, 4, 4, 4, 14, 1, 16, 2, 2, 11, 4, 21, 2, 7, 16, 14, 16, 4, 4, 14, 16, 16, 2, 2, 16, 23, 16, 14, 14, 4, 16, 14, 2, 3, 14, 4, 12, 4, 16, 9, 9, 2, 23, 1, 11, 21, 16, 3, 11, 9, 11, 21, 2, 4, 1, 23, 11, 4, 21, 4, 23, 4, 14, 4, 2, 23, 2, 16, 4, 17, 14, 11, 21, 16, 2, 2, 14, 14, 20, 14, 23, 14, 13, 2, 2, 2, 11, 3, 22, 14, 21, 2, 11, 16, 11, 4, 2, 2, 2, 3, 23, 11, 11, 21, 4, 16, 2, 14, 21, 1, 21, 9, 21, 11, 4, 5, 23, 2, 21, 14, 11, 2, 14, 14, 11, 16, 23, 16, 14, 21, 4, 14, 15, 18, 4, 2, 2, 23, 1, 21, 21, 21, 2, 23, 2, 14, 14, 4, 16, 2, 4, 2, 4, 2, 2, 4, 2, 0, 2, 4, 23, 14, 14, 6, 4, 16, 16, 26, 23, 11, 14, 14, 5, 4, 16, 14, 2, 2, 11, 2, 21, 11, 4, 16, 2, 21, 4, 4, 14, 11, 4, 11, 11, 11, 4, 23, 14, 1, 1, 2, 14, 4, 14, 6, 14, 4, 2, 2, 9, 11, 2, 11, 14, 4, 4, 11, 2, 4, 2, 23, 2, 12, 2, 14, 16, 11, 4, 4, 4, 4, 23, 2, 16, 9, 16, 39, 16, 14, 2, 11, 2, 2, 16, 11, 23, 4, 2, 4, 16, 9, 4, 8, 11, 11, 13, 14, 0, 9, 14, 4, 2, 11, 4, 2, 2, 23, 4, 4, 11, 3, 2, 9, 11, 2, 4, 2, 4, 21, 4, 21, 4, 4, 2, 4, 5, 21, 2, 2, 4, 14, 16, 11, 23, 16, 2, 2, 14, 14, 13, 4, 12, 4, 14, 4, 2, 14, 23, 13, 14, 14, 21, 4, 16, 2, 4, 4, 11, 0, 2, 4, 2, 2, 2, 16, 4, 11, 2, 5, 2, 2, 4, 14, 4, 2, 16, 4, 4, 2, 14, 4, 11, 2, 4, 14, 11, 16, 2, 4, 4, 21, 2, 2, 11, 4, 9, 4, 15, 4, 4, 2, 23, 2, 16, 4, 2, 12, 2, 4, 16, 4, 2, 9, 2, 16, 2, 9, 11, 21, 11, 2, 4, 9, 16, 4, 21, 4, 2, 16, 4, 4, 4, 21, 4, 16, 4, 9, 4, 1, 7, 14, 4, 14, 21, 2, 14, 4, 5, 23, 9, 21, 11, 4, 2, 23, 23, 2, 4, 2, 21, 16, 9, 21, 2, 23, 2, 12, 4, 23, 5, 21, 11, 2, 7, 3, 16], \"xaxis\": \"x\", \"yaxis\": \"y\"}],\n",
              "                        {\"legend\": {\"tracegroupgap\": 0}, \"margin\": {\"t\": 60}, \"template\": {\"data\": {\"bar\": [{\"error_x\": {\"color\": \"#2a3f5f\"}, \"error_y\": {\"color\": \"#2a3f5f\"}, \"marker\": {\"line\": {\"color\": \"#E5ECF6\", \"width\": 0.5}}, \"type\": \"bar\"}], \"barpolar\": [{\"marker\": {\"line\": {\"color\": \"#E5ECF6\", \"width\": 0.5}}, \"type\": \"barpolar\"}], \"carpet\": [{\"aaxis\": {\"endlinecolor\": \"#2a3f5f\", \"gridcolor\": \"white\", \"linecolor\": \"white\", \"minorgridcolor\": \"white\", \"startlinecolor\": \"#2a3f5f\"}, \"baxis\": {\"endlinecolor\": \"#2a3f5f\", \"gridcolor\": \"white\", \"linecolor\": \"white\", \"minorgridcolor\": \"white\", \"startlinecolor\": \"#2a3f5f\"}, \"type\": \"carpet\"}], \"choropleth\": [{\"colorbar\": {\"outlinewidth\": 0, \"ticks\": \"\"}, \"type\": \"choropleth\"}], \"contour\": [{\"colorbar\": {\"outlinewidth\": 0, \"ticks\": \"\"}, \"colorscale\": [[0.0, \"#0d0887\"], [0.1111111111111111, \"#46039f\"], [0.2222222222222222, \"#7201a8\"], [0.3333333333333333, \"#9c179e\"], [0.4444444444444444, \"#bd3786\"], [0.5555555555555556, \"#d8576b\"], [0.6666666666666666, \"#ed7953\"], [0.7777777777777778, \"#fb9f3a\"], [0.8888888888888888, \"#fdca26\"], [1.0, \"#f0f921\"]], \"type\": \"contour\"}], \"contourcarpet\": [{\"colorbar\": {\"outlinewidth\": 0, \"ticks\": \"\"}, \"type\": \"contourcarpet\"}], \"heatmap\": [{\"colorbar\": {\"outlinewidth\": 0, \"ticks\": \"\"}, \"colorscale\": [[0.0, \"#0d0887\"], [0.1111111111111111, \"#46039f\"], [0.2222222222222222, \"#7201a8\"], [0.3333333333333333, \"#9c179e\"], [0.4444444444444444, \"#bd3786\"], [0.5555555555555556, \"#d8576b\"], [0.6666666666666666, \"#ed7953\"], [0.7777777777777778, \"#fb9f3a\"], [0.8888888888888888, \"#fdca26\"], [1.0, \"#f0f921\"]], \"type\": \"heatmap\"}], \"heatmapgl\": [{\"colorbar\": {\"outlinewidth\": 0, \"ticks\": \"\"}, \"colorscale\": [[0.0, \"#0d0887\"], [0.1111111111111111, \"#46039f\"], [0.2222222222222222, \"#7201a8\"], [0.3333333333333333, \"#9c179e\"], [0.4444444444444444, \"#bd3786\"], [0.5555555555555556, \"#d8576b\"], [0.6666666666666666, \"#ed7953\"], [0.7777777777777778, \"#fb9f3a\"], [0.8888888888888888, \"#fdca26\"], [1.0, \"#f0f921\"]], \"type\": \"heatmapgl\"}], \"histogram\": [{\"marker\": {\"colorbar\": {\"outlinewidth\": 0, \"ticks\": \"\"}}, \"type\": \"histogram\"}], \"histogram2d\": [{\"colorbar\": {\"outlinewidth\": 0, \"ticks\": \"\"}, \"colorscale\": [[0.0, \"#0d0887\"], [0.1111111111111111, \"#46039f\"], [0.2222222222222222, \"#7201a8\"], [0.3333333333333333, \"#9c179e\"], [0.4444444444444444, \"#bd3786\"], [0.5555555555555556, \"#d8576b\"], [0.6666666666666666, \"#ed7953\"], [0.7777777777777778, \"#fb9f3a\"], [0.8888888888888888, \"#fdca26\"], [1.0, \"#f0f921\"]], \"type\": \"histogram2d\"}], \"histogram2dcontour\": [{\"colorbar\": {\"outlinewidth\": 0, \"ticks\": \"\"}, \"colorscale\": [[0.0, \"#0d0887\"], [0.1111111111111111, \"#46039f\"], [0.2222222222222222, \"#7201a8\"], [0.3333333333333333, \"#9c179e\"], [0.4444444444444444, \"#bd3786\"], [0.5555555555555556, \"#d8576b\"], [0.6666666666666666, \"#ed7953\"], [0.7777777777777778, \"#fb9f3a\"], [0.8888888888888888, \"#fdca26\"], [1.0, \"#f0f921\"]], \"type\": \"histogram2dcontour\"}], \"mesh3d\": [{\"colorbar\": {\"outlinewidth\": 0, \"ticks\": \"\"}, \"type\": \"mesh3d\"}], \"parcoords\": [{\"line\": {\"colorbar\": {\"outlinewidth\": 0, \"ticks\": \"\"}}, \"type\": \"parcoords\"}], \"pie\": [{\"automargin\": true, \"type\": \"pie\"}], \"scatter\": [{\"marker\": {\"colorbar\": {\"outlinewidth\": 0, \"ticks\": \"\"}}, \"type\": \"scatter\"}], \"scatter3d\": [{\"line\": {\"colorbar\": {\"outlinewidth\": 0, \"ticks\": \"\"}}, \"marker\": {\"colorbar\": {\"outlinewidth\": 0, \"ticks\": \"\"}}, \"type\": \"scatter3d\"}], \"scattercarpet\": [{\"marker\": {\"colorbar\": {\"outlinewidth\": 0, \"ticks\": \"\"}}, \"type\": \"scattercarpet\"}], \"scattergeo\": [{\"marker\": {\"colorbar\": {\"outlinewidth\": 0, \"ticks\": \"\"}}, \"type\": \"scattergeo\"}], \"scattergl\": [{\"marker\": {\"colorbar\": {\"outlinewidth\": 0, \"ticks\": \"\"}}, \"type\": \"scattergl\"}], \"scattermapbox\": [{\"marker\": {\"colorbar\": {\"outlinewidth\": 0, \"ticks\": \"\"}}, \"type\": \"scattermapbox\"}], \"scatterpolar\": [{\"marker\": {\"colorbar\": {\"outlinewidth\": 0, \"ticks\": \"\"}}, \"type\": \"scatterpolar\"}], \"scatterpolargl\": [{\"marker\": {\"colorbar\": {\"outlinewidth\": 0, \"ticks\": \"\"}}, \"type\": \"scatterpolargl\"}], \"scatterternary\": [{\"marker\": {\"colorbar\": {\"outlinewidth\": 0, \"ticks\": \"\"}}, \"type\": \"scatterternary\"}], \"surface\": [{\"colorbar\": {\"outlinewidth\": 0, \"ticks\": \"\"}, \"colorscale\": [[0.0, \"#0d0887\"], [0.1111111111111111, \"#46039f\"], [0.2222222222222222, \"#7201a8\"], [0.3333333333333333, \"#9c179e\"], [0.4444444444444444, \"#bd3786\"], [0.5555555555555556, \"#d8576b\"], [0.6666666666666666, \"#ed7953\"], [0.7777777777777778, \"#fb9f3a\"], [0.8888888888888888, \"#fdca26\"], [1.0, \"#f0f921\"]], \"type\": \"surface\"}], \"table\": [{\"cells\": {\"fill\": {\"color\": \"#EBF0F8\"}, \"line\": {\"color\": \"white\"}}, \"header\": {\"fill\": {\"color\": \"#C8D4E3\"}, \"line\": {\"color\": \"white\"}}, \"type\": \"table\"}]}, \"layout\": {\"annotationdefaults\": {\"arrowcolor\": \"#2a3f5f\", \"arrowhead\": 0, \"arrowwidth\": 1}, \"coloraxis\": {\"colorbar\": {\"outlinewidth\": 0, \"ticks\": \"\"}}, \"colorscale\": {\"diverging\": [[0, \"#8e0152\"], [0.1, \"#c51b7d\"], [0.2, \"#de77ae\"], [0.3, \"#f1b6da\"], [0.4, \"#fde0ef\"], [0.5, \"#f7f7f7\"], [0.6, \"#e6f5d0\"], [0.7, \"#b8e186\"], [0.8, \"#7fbc41\"], [0.9, \"#4d9221\"], [1, \"#276419\"]], \"sequential\": [[0.0, \"#0d0887\"], [0.1111111111111111, \"#46039f\"], [0.2222222222222222, \"#7201a8\"], [0.3333333333333333, \"#9c179e\"], [0.4444444444444444, \"#bd3786\"], [0.5555555555555556, \"#d8576b\"], [0.6666666666666666, \"#ed7953\"], [0.7777777777777778, \"#fb9f3a\"], [0.8888888888888888, \"#fdca26\"], [1.0, \"#f0f921\"]], \"sequentialminus\": [[0.0, \"#0d0887\"], [0.1111111111111111, \"#46039f\"], [0.2222222222222222, \"#7201a8\"], [0.3333333333333333, \"#9c179e\"], [0.4444444444444444, \"#bd3786\"], [0.5555555555555556, \"#d8576b\"], [0.6666666666666666, \"#ed7953\"], [0.7777777777777778, \"#fb9f3a\"], [0.8888888888888888, \"#fdca26\"], [1.0, \"#f0f921\"]]}, \"colorway\": [\"#636efa\", \"#EF553B\", \"#00cc96\", \"#ab63fa\", \"#FFA15A\", \"#19d3f3\", \"#FF6692\", \"#B6E880\", \"#FF97FF\", \"#FECB52\"], \"font\": {\"color\": \"#2a3f5f\"}, \"geo\": {\"bgcolor\": \"white\", \"lakecolor\": \"white\", \"landcolor\": \"#E5ECF6\", \"showlakes\": true, \"showland\": true, \"subunitcolor\": \"white\"}, \"hoverlabel\": {\"align\": \"left\"}, \"hovermode\": \"closest\", \"mapbox\": {\"style\": \"light\"}, \"paper_bgcolor\": \"white\", \"plot_bgcolor\": \"#E5ECF6\", \"polar\": {\"angularaxis\": {\"gridcolor\": \"white\", \"linecolor\": \"white\", \"ticks\": \"\"}, \"bgcolor\": \"#E5ECF6\", \"radialaxis\": {\"gridcolor\": \"white\", \"linecolor\": \"white\", \"ticks\": \"\"}}, \"scene\": {\"xaxis\": {\"backgroundcolor\": \"#E5ECF6\", \"gridcolor\": \"white\", \"gridwidth\": 2, \"linecolor\": \"white\", \"showbackground\": true, \"ticks\": \"\", \"zerolinecolor\": \"white\"}, \"yaxis\": {\"backgroundcolor\": \"#E5ECF6\", \"gridcolor\": \"white\", \"gridwidth\": 2, \"linecolor\": \"white\", \"showbackground\": true, \"ticks\": \"\", \"zerolinecolor\": \"white\"}, \"zaxis\": {\"backgroundcolor\": \"#E5ECF6\", \"gridcolor\": \"white\", \"gridwidth\": 2, \"linecolor\": \"white\", \"showbackground\": true, \"ticks\": \"\", \"zerolinecolor\": \"white\"}}, \"shapedefaults\": {\"line\": {\"color\": \"#2a3f5f\"}}, \"ternary\": {\"aaxis\": {\"gridcolor\": \"white\", \"linecolor\": \"white\", \"ticks\": \"\"}, \"baxis\": {\"gridcolor\": \"white\", \"linecolor\": \"white\", \"ticks\": \"\"}, \"bgcolor\": \"#E5ECF6\", \"caxis\": {\"gridcolor\": \"white\", \"linecolor\": \"white\", \"ticks\": \"\"}}, \"title\": {\"x\": 0.05}, \"xaxis\": {\"automargin\": true, \"gridcolor\": \"white\", \"linecolor\": \"white\", \"ticks\": \"\", \"title\": {\"standoff\": 15}, \"zerolinecolor\": \"white\", \"zerolinewidth\": 2}, \"yaxis\": {\"automargin\": true, \"gridcolor\": \"white\", \"linecolor\": \"white\", \"ticks\": \"\", \"title\": {\"standoff\": 15}, \"zerolinecolor\": \"white\", \"zerolinewidth\": 2}}}, \"xaxis\": {\"anchor\": \"y\", \"domain\": [0.0, 1.0], \"title\": {\"text\": \"x\"}}, \"yaxis\": {\"anchor\": \"x\", \"domain\": [0.0, 1.0]}},\n",
              "                        {\"responsive\": true}\n",
              "                    ).then(function(){\n",
              "                            \n",
              "var gd = document.getElementById('938a7ef7-8e20-4766-9153-dbb2b8f670b9');\n",
              "var x = new MutationObserver(function (mutations, observer) {{\n",
              "        var display = window.getComputedStyle(gd).display;\n",
              "        if (!display || display === 'none') {{\n",
              "            console.log([gd, 'removed!']);\n",
              "            Plotly.purge(gd);\n",
              "            observer.disconnect();\n",
              "        }}\n",
              "}});\n",
              "\n",
              "// Listen for the removal of the full notebook cells\n",
              "var notebookContainer = gd.closest('#notebook-container');\n",
              "if (notebookContainer) {{\n",
              "    x.observe(notebookContainer, {childList: true});\n",
              "}}\n",
              "\n",
              "// Listen for the clearing of the current output cell\n",
              "var outputEl = gd.closest('.output');\n",
              "if (outputEl) {{\n",
              "    x.observe(outputEl, {childList: true});\n",
              "}}\n",
              "\n",
              "                        })\n",
              "                };\n",
              "                \n",
              "            </script>\n",
              "        </div>\n",
              "</body>\n",
              "</html>"
            ]
          },
          "metadata": {
            "tags": []
          }
        }
      ]
    },
    {
      "cell_type": "code",
      "metadata": {
        "id": "WUBmbhzy3MhS",
        "colab_type": "code",
        "colab": {
          "base_uri": "https://localhost:8080/",
          "height": 542
        },
        "outputId": "6ccaa001-e6eb-4492-e005-0e0978df96a8"
      },
      "source": [
        "fig = px.scatter_3d(donors,x='number_of_donations', y='months_since_last_donation', z='made_donation_in_march_2007')\n",
        "fig.show()"
      ],
      "execution_count": 68,
      "outputs": [
        {
          "output_type": "display_data",
          "data": {
            "text/html": [
              "<html>\n",
              "<head><meta charset=\"utf-8\" /></head>\n",
              "<body>\n",
              "    <div>\n",
              "            <script src=\"https://cdnjs.cloudflare.com/ajax/libs/mathjax/2.7.5/MathJax.js?config=TeX-AMS-MML_SVG\"></script><script type=\"text/javascript\">if (window.MathJax) {MathJax.Hub.Config({SVG: {font: \"STIX-Web\"}});}</script>\n",
              "                <script type=\"text/javascript\">window.PlotlyConfig = {MathJaxConfig: 'local'};</script>\n",
              "        <script src=\"https://cdn.plot.ly/plotly-latest.min.js\"></script>    \n",
              "            <div id=\"1cc83bb3-7ec1-4444-ab00-b86bcab8ec12\" class=\"plotly-graph-div\" style=\"height:525px; width:100%;\"></div>\n",
              "            <script type=\"text/javascript\">\n",
              "                \n",
              "                    window.PLOTLYENV=window.PLOTLYENV || {};\n",
              "                    \n",
              "                if (document.getElementById(\"1cc83bb3-7ec1-4444-ab00-b86bcab8ec12\")) {\n",
              "                    Plotly.newPlot(\n",
              "                        '1cc83bb3-7ec1-4444-ab00-b86bcab8ec12',\n",
              "                        [{\"hoverlabel\": {\"namelength\": 0}, \"hovertemplate\": \"number_of_donations=%{x}<br>months_since_last_donation=%{y}<br>made_donation_in_march_2007=%{z}\", \"legendgroup\": \"\", \"marker\": {\"color\": \"#636efa\", \"symbol\": \"circle\"}, \"mode\": \"markers\", \"name\": \"\", \"scene\": \"scene\", \"showlegend\": false, \"type\": \"scatter3d\", \"x\": [50, 13, 16, 20, 24, 4, 7, 12, 9, 46, 23, 3, 10, 13, 6, 5, 14, 15, 6, 3, 3, 11, 6, 6, 9, 14, 6, 12, 5, 8, 14, 10, 10, 9, 16, 8, 12, 6, 14, 7, 13, 5, 5, 5, 20, 9, 9, 2, 2, 2, 11, 11, 6, 12, 5, 19, 8, 7, 16, 6, 7, 8, 10, 5, 3, 16, 4, 2, 7, 9, 4, 4, 17, 2, 2, 2, 4, 2, 2, 2, 6, 4, 4, 4, 6, 6, 2, 2, 2, 7, 2, 2, 2, 2, 11, 7, 17, 9, 4, 7, 8, 13, 9, 5, 5, 17, 8, 5, 3, 10, 5, 9, 5, 8, 12, 24, 7, 11, 7, 11, 3, 5, 6, 5, 4, 5, 8, 4, 8, 2, 5, 12, 2, 6, 11, 3, 5, 12, 5, 2, 9, 14, 3, 3, 2, 3, 3, 2, 2, 2, 7, 6, 11, 1, 1, 1, 1, 1, 1, 1, 1, 1, 1, 1, 1, 1, 1, 1, 1, 1, 1, 1, 1, 1, 1, 10, 4, 5, 6, 3, 4, 4, 4, 12, 8, 9, 5, 4, 15, 5, 7, 7, 4, 11, 2, 5, 8, 6, 7, 9, 6, 7, 2, 7, 9, 6, 2, 7, 6, 3, 1, 1, 1, 1, 1, 1, 1, 1, 1, 1, 1, 1, 1, 1, 1, 1, 1, 3, 1, 1, 1, 1, 1, 8, 7, 10, 3, 2, 4, 9, 8, 22, 3, 17, 2, 5, 12, 12, 2, 2, 2, 6, 8, 3, 13, 3, 8, 7, 3, 12, 4, 14, 2, 3, 5, 4, 2, 8, 7, 4, 11, 7, 2, 5, 5, 4, 13, 3, 18, 8, 16, 4, 5, 2, 5, 2, 2, 2, 5, 3, 4, 12, 4, 5, 5, 4, 5, 2, 2, 2, 2, 2, 2, 3, 6, 5, 5, 3, 4, 3, 5, 2, 9, 1, 1, 2, 2, 4, 9, 5, 16, 5, 4, 8, 7, 2, 2, 16, 4, 7, 7, 6, 6, 7, 2, 3, 3, 7, 1, 3, 4, 38, 6, 1, 1, 1, 1, 1, 1, 1, 1, 2, 5, 2, 4, 2, 6, 3, 2, 16, 6, 2, 3, 13, 6, 2, 15, 4, 2, 5, 2, 3, 2, 4, 4, 3, 5, 1, 1, 1, 1, 1, 1, 1, 1, 7, 1, 1, 3, 7, 4, 4, 2, 4, 4, 10, 2, 3, 8, 3, 2, 5, 8, 3, 5, 3, 1, 1, 1, 1, 1, 1, 1, 4, 1, 1, 1, 1, 1, 2, 2, 2, 2, 2, 4, 5, 2, 5, 3, 3, 2, 2, 7, 4, 2, 7, 2, 3, 14, 8, 3, 3, 2, 3, 12, 3, 2, 2, 8, 3, 3, 3, 2, 1, 1, 1, 1, 1, 1, 1, 1, 1, 1, 1, 1, 5, 4, 4, 1, 2, 5, 3, 3, 3, 2, 5, 6, 1, 1, 1, 1, 1, 1, 1, 1, 4, 6, 3, 2, 3, 2, 3, 4, 3, 2, 3, 1, 1, 1, 1, 43, 22, 34, 44, 26, 41, 21, 11, 21, 13, 4, 11, 11, 14, 16, 6, 5, 33, 10, 10, 11, 11, 13, 10, 9, 4, 5, 15, 24, 6, 5, 4, 8, 4, 6, 5, 7, 6, 8, 2, 6, 10, 16, 2, 14, 2, 14, 3, 12, 7, 4, 6, 6, 3, 4, 4, 6, 6, 5, 8, 11, 9, 16, 10, 14, 9, 6, 9, 6, 6, 6, 2, 2, 2, 2, 6, 4, 9, 5, 3, 1, 1, 1, 1, 1, 1, 1, 1, 1, 1, 1, 11, 3, 11, 11, 5, 1, 6, 3, 11, 2, 6, 3, 8, 2, 11, 7, 7, 1, 1, 1, 1, 1, 1, 1, 1, 1, 1, 1, 1, 7, 1, 4, 6, 3, 5, 9, 2, 5, 11, 9, 2, 3, 15, 3, 16, 5, 7, 4, 9, 8, 5, 6, 5, 2, 2, 2, 2, 3, 8, 1, 5, 4, 2, 3, 16, 2, 8, 3, 7, 5, 2, 3, 8, 1, 1, 1, 1, 1, 3, 3, 4, 15, 14, 10, 3, 3, 19, 7, 3, 14, 2, 2, 3, 4, 7, 7, 6, 3, 1, 1, 1, 1, 1, 1, 7, 3, 3, 7, 2, 3, 1, 1, 1, 1, 1, 2, 4, 2, 6, 2, 6, 2, 6, 4, 5, 2, 3, 3, 8, 3, 3, 3, 2, 1, 1, 6, 1, 1, 3, 2, 3, 1, 1, 1, 1, 1, 1, 1, 4, 1, 7, 3, 2, 2, 3, 1, 1], \"y\": [2, 0, 1, 2, 1, 4, 2, 1, 2, 5, 4, 0, 2, 1, 2, 2, 2, 2, 2, 2, 2, 4, 2, 2, 9, 4, 4, 4, 4, 4, 1, 4, 4, 4, 2, 2, 2, 4, 2, 4, 2, 2, 2, 2, 4, 4, 2, 2, 2, 2, 2, 2, 2, 2, 4, 4, 4, 2, 2, 3, 2, 2, 2, 4, 2, 3, 2, 0, 4, 1, 2, 2, 4, 2, 2, 2, 2, 2, 2, 2, 4, 2, 2, 2, 2, 2, 4, 4, 4, 2, 4, 4, 4, 4, 12, 4, 3, 4, 4, 5, 4, 2, 4, 2, 2, 6, 0, 3, 2, 2, 4, 4, 4, 4, 2, 11, 2, 4, 1, 2, 2, 4, 2, 2, 2, 2, 4, 2, 4, 2, 4, 2, 2, 4, 2, 2, 2, 2, 9, 2, 2, 5, 4, 4, 4, 4, 6, 2, 2, 2, 2, 4, 4, 2, 2, 2, 2, 2, 2, 2, 2, 2, 2, 2, 2, 2, 2, 2, 2, 2, 2, 2, 2, 2, 2, 11, 11, 4, 4, 2, 4, 10, 2, 4, 13, 11, 4, 4, 8, 4, 4, 4, 2, 11, 2, 2, 9, 4, 11, 9, 4, 4, 6, 4, 11, 11, 2, 2, 11, 11, 4, 4, 4, 4, 4, 4, 4, 4, 4, 4, 4, 4, 4, 4, 4, 4, 4, 4, 4, 4, 4, 4, 4, 10, 14, 8, 11, 4, 2, 8, 8, 11, 4, 11, 9, 4, 11, 7, 11, 11, 11, 2, 11, 11, 12, 2, 16, 11, 4, 12, 4, 11, 2, 2, 4, 4, 3, 11, 4, 13, 16, 16, 7, 4, 4, 4, 14, 4, 14, 11, 14, 14, 14, 8, 11, 11, 4, 9, 14, 14, 14, 16, 11, 11, 11, 2, 14, 14, 14, 14, 14, 14, 14, 2, 14, 11, 4, 11, 16, 16, 11, 11, 12, 9, 9, 4, 11, 14, 11, 11, 15, 9, 11, 14, 16, 14, 2, 14, 14, 16, 14, 16, 16, 11, 16, 16, 11, 11, 11, 9, 14, 23, 11, 11, 11, 11, 11, 11, 11, 11, 11, 11, 11, 11, 16, 4, 16, 14, 9, 21, 14, 11, 4, 21, 11, 14, 23, 14, 11, 16, 4, 14, 4, 9, 14, 11, 14, 14, 14, 14, 14, 14, 14, 14, 14, 14, 14, 14, 9, 14, 11, 11, 4, 11, 16, 16, 21, 21, 16, 21, 18, 23, 23, 16, 14, 14, 16, 16, 16, 16, 16, 16, 16, 16, 16, 16, 16, 16, 16, 16, 21, 16, 21, 21, 14, 16, 23, 14, 23, 16, 9, 9, 16, 14, 14, 16, 21, 14, 23, 18, 16, 11, 11, 11, 23, 21, 23, 23, 23, 16, 23, 21, 23, 21, 21, 21, 21, 21, 21, 21, 21, 21, 21, 21, 21, 21, 23, 21, 22, 11, 23, 23, 23, 14, 21, 26, 23, 23, 23, 23, 23, 23, 23, 23, 23, 23, 21, 23, 21, 21, 16, 21, 23, 23, 23, 35, 38, 38, 40, 74, 2, 6, 2, 2, 0, 2, 3, 2, 2, 2, 4, 2, 2, 3, 4, 4, 3, 4, 3, 4, 2, 2, 4, 1, 4, 2, 2, 2, 5, 2, 4, 2, 4, 2, 2, 4, 2, 2, 2, 2, 2, 2, 4, 4, 1, 4, 7, 2, 2, 4, 4, 2, 4, 2, 2, 4, 5, 4, 14, 3, 4, 4, 4, 7, 4, 2, 4, 4, 4, 2, 2, 4, 2, 2, 2, 4, 3, 9, 11, 2, 2, 2, 2, 2, 2, 2, 2, 2, 2, 2, 2, 11, 2, 9, 5, 3, 3, 4, 2, 12, 2, 4, 9, 14, 4, 4, 2, 2, 4, 4, 4, 4, 4, 4, 4, 4, 4, 4, 4, 4, 4, 4, 4, 11, 13, 7, 9, 11, 2, 7, 8, 2, 6, 12, 13, 11, 4, 14, 11, 7, 11, 7, 11, 10, 14, 14, 14, 2, 11, 14, 9, 16, 14, 4, 14, 16, 4, 14, 11, 14, 15, 16, 16, 11, 11, 11, 11, 11, 11, 2, 2, 16, 16, 16, 16, 16, 14, 23, 11, 14, 20, 4, 11, 11, 16, 21, 13, 16, 14, 14, 14, 14, 14, 14, 14, 17, 14, 14, 16, 21, 16, 16, 16, 16, 16, 16, 14, 11, 11, 21, 23, 23, 14, 16, 16, 16, 21, 21, 21, 23, 21, 23, 21, 23, 21, 21, 25, 21, 21, 23, 21, 14, 23, 23, 23, 23, 23, 23, 23, 23, 23, 23, 16, 23, 21, 23, 39, 72], \"z\": [1, 1, 1, 1, 0, 0, 1, 0, 1, 1, 0, 0, 1, 0, 1, 1, 1, 1, 1, 1, 1, 0, 1, 1, 0, 0, 0, 1, 1, 0, 0, 1, 1, 1, 0, 1, 1, 1, 1, 1, 1, 0, 1, 0, 1, 1, 0, 0, 0, 0, 0, 1, 0, 0, 1, 1, 1, 1, 0, 0, 0, 1, 0, 1, 1, 0, 1, 0, 0, 0, 0, 0, 1, 0, 1, 1, 1, 0, 0, 0, 1, 0, 0, 0, 1, 0, 0, 0, 0, 1, 1, 0, 0, 0, 0, 0, 0, 1, 1, 1, 1, 1, 0, 0, 0, 0, 0, 0, 0, 0, 1, 0, 0, 1, 0, 0, 1, 0, 0, 1, 1, 1, 1, 1, 0, 0, 1, 0, 1, 1, 0, 0, 0, 0, 0, 0, 0, 0, 0, 0, 0, 0, 0, 0, 1, 1, 0, 0, 1, 0, 1, 0, 0, 1, 0, 0, 0, 0, 0, 0, 0, 0, 0, 1, 1, 1, 0, 0, 0, 0, 0, 0, 0, 0, 0, 0, 1, 1, 1, 0, 1, 0, 0, 0, 0, 0, 0, 0, 0, 1, 0, 0, 0, 0, 0, 1, 1, 0, 0, 0, 0, 0, 1, 0, 0, 0, 0, 0, 0, 0, 0, 0, 0, 0, 0, 1, 0, 0, 0, 0, 0, 1, 1, 0, 1, 1, 0, 0, 0, 0, 0, 1, 0, 0, 0, 0, 0, 0, 0, 0, 1, 0, 1, 1, 0, 0, 0, 0, 0, 0, 0, 0, 1, 1, 0, 0, 0, 0, 0, 0, 0, 1, 0, 1, 0, 1, 0, 0, 0, 0, 0, 0, 0, 0, 0, 0, 0, 0, 0, 0, 0, 1, 0, 0, 0, 0, 0, 1, 1, 1, 1, 0, 0, 0, 0, 0, 0, 0, 0, 0, 0, 0, 0, 0, 0, 1, 0, 0, 0, 0, 0, 0, 0, 0, 0, 0, 0, 0, 1, 0, 0, 1, 0, 1, 0, 0, 0, 0, 1, 0, 0, 0, 1, 1, 0, 1, 0, 0, 1, 0, 0, 0, 0, 0, 0, 0, 0, 0, 0, 0, 0, 0, 0, 0, 0, 0, 0, 0, 0, 0, 0, 0, 0, 0, 0, 1, 0, 0, 0, 1, 1, 0, 0, 0, 0, 1, 0, 0, 0, 0, 0, 0, 0, 0, 0, 0, 0, 0, 0, 0, 0, 0, 0, 0, 0, 0, 1, 0, 0, 1, 0, 0, 0, 0, 0, 0, 0, 0, 0, 0, 0, 0, 0, 0, 0, 0, 0, 0, 0, 0, 0, 0, 0, 0, 0, 0, 0, 0, 0, 0, 0, 0, 1, 0, 0, 0, 0, 0, 0, 0, 0, 0, 0, 0, 0, 0, 0, 0, 0, 0, 0, 0, 0, 0, 0, 0, 0, 0, 0, 0, 0, 0, 1, 0, 0, 0, 0, 0, 1, 0, 0, 0, 0, 0, 0, 1, 0, 0, 0, 0, 0, 0, 0, 0, 0, 0, 0, 0, 0, 0, 0, 0, 0, 0, 0, 0, 0, 0, 0, 0, 1, 1, 1, 0, 1, 1, 1, 0, 1, 1, 1, 0, 0, 0, 1, 0, 1, 1, 1, 1, 1, 1, 1, 1, 0, 0, 1, 0, 0, 1, 1, 1, 0, 0, 0, 1, 1, 1, 1, 1, 1, 0, 1, 1, 0, 1, 0, 0, 1, 1, 0, 1, 1, 0, 0, 0, 0, 0, 0, 0, 1, 0, 1, 0, 0, 0, 0, 0, 1, 0, 0, 0, 1, 0, 1, 1, 1, 0, 0, 0, 0, 1, 0, 0, 0, 0, 1, 0, 0, 0, 0, 0, 0, 1, 0, 0, 1, 0, 0, 0, 0, 0, 0, 0, 0, 0, 0, 0, 0, 0, 0, 0, 1, 0, 0, 0, 0, 0, 1, 0, 0, 0, 1, 0, 1, 0, 0, 0, 0, 0, 0, 0, 0, 0, 0, 0, 0, 0, 0, 1, 1, 0, 0, 0, 1, 0, 0, 0, 0, 0, 0, 0, 0, 0, 0, 0, 0, 0, 0, 0, 0, 0, 0, 0, 0, 0, 0, 1, 0, 1, 0, 0, 0, 0, 0, 0, 0, 0, 0, 0, 1, 0, 0, 0, 0, 0, 0, 0, 0, 0, 0, 0, 0, 0, 0, 1, 0, 0, 0, 0, 0, 0, 0, 0, 0, 0, 0, 0, 1, 0, 0, 0, 1, 0, 0, 0, 0, 0, 0, 0, 0, 0, 0, 0, 0, 0, 0, 0, 0, 0, 0, 0, 1, 0, 0, 0, 0, 0, 0, 0, 0, 0, 0, 0, 0, 0, 0, 0]}],\n",
              "                        {\"legend\": {\"tracegroupgap\": 0}, \"margin\": {\"t\": 60}, \"scene\": {\"domain\": {\"x\": [0.0, 1.0], \"y\": [0.0, 1.0]}, \"xaxis\": {\"title\": {\"text\": \"number_of_donations\"}}, \"yaxis\": {\"title\": {\"text\": \"months_since_last_donation\"}}, \"zaxis\": {\"title\": {\"text\": \"made_donation_in_march_2007\"}}}, \"template\": {\"data\": {\"bar\": [{\"error_x\": {\"color\": \"#2a3f5f\"}, \"error_y\": {\"color\": \"#2a3f5f\"}, \"marker\": {\"line\": {\"color\": \"#E5ECF6\", \"width\": 0.5}}, \"type\": \"bar\"}], \"barpolar\": [{\"marker\": {\"line\": {\"color\": \"#E5ECF6\", \"width\": 0.5}}, \"type\": \"barpolar\"}], \"carpet\": [{\"aaxis\": {\"endlinecolor\": \"#2a3f5f\", \"gridcolor\": \"white\", \"linecolor\": \"white\", \"minorgridcolor\": \"white\", \"startlinecolor\": \"#2a3f5f\"}, \"baxis\": {\"endlinecolor\": \"#2a3f5f\", \"gridcolor\": \"white\", \"linecolor\": \"white\", \"minorgridcolor\": \"white\", \"startlinecolor\": \"#2a3f5f\"}, \"type\": \"carpet\"}], \"choropleth\": [{\"colorbar\": {\"outlinewidth\": 0, \"ticks\": \"\"}, \"type\": \"choropleth\"}], \"contour\": [{\"colorbar\": {\"outlinewidth\": 0, \"ticks\": \"\"}, \"colorscale\": [[0.0, \"#0d0887\"], [0.1111111111111111, \"#46039f\"], [0.2222222222222222, \"#7201a8\"], [0.3333333333333333, \"#9c179e\"], [0.4444444444444444, \"#bd3786\"], [0.5555555555555556, \"#d8576b\"], [0.6666666666666666, \"#ed7953\"], [0.7777777777777778, \"#fb9f3a\"], [0.8888888888888888, \"#fdca26\"], [1.0, \"#f0f921\"]], \"type\": \"contour\"}], \"contourcarpet\": [{\"colorbar\": {\"outlinewidth\": 0, \"ticks\": \"\"}, \"type\": \"contourcarpet\"}], \"heatmap\": [{\"colorbar\": {\"outlinewidth\": 0, \"ticks\": \"\"}, \"colorscale\": [[0.0, \"#0d0887\"], [0.1111111111111111, \"#46039f\"], [0.2222222222222222, \"#7201a8\"], [0.3333333333333333, \"#9c179e\"], [0.4444444444444444, \"#bd3786\"], [0.5555555555555556, \"#d8576b\"], [0.6666666666666666, \"#ed7953\"], [0.7777777777777778, \"#fb9f3a\"], [0.8888888888888888, \"#fdca26\"], [1.0, \"#f0f921\"]], \"type\": \"heatmap\"}], \"heatmapgl\": [{\"colorbar\": {\"outlinewidth\": 0, \"ticks\": \"\"}, \"colorscale\": [[0.0, \"#0d0887\"], [0.1111111111111111, \"#46039f\"], [0.2222222222222222, \"#7201a8\"], [0.3333333333333333, \"#9c179e\"], [0.4444444444444444, \"#bd3786\"], [0.5555555555555556, \"#d8576b\"], [0.6666666666666666, \"#ed7953\"], [0.7777777777777778, \"#fb9f3a\"], [0.8888888888888888, \"#fdca26\"], [1.0, \"#f0f921\"]], \"type\": \"heatmapgl\"}], \"histogram\": [{\"marker\": {\"colorbar\": {\"outlinewidth\": 0, \"ticks\": \"\"}}, \"type\": \"histogram\"}], \"histogram2d\": [{\"colorbar\": {\"outlinewidth\": 0, \"ticks\": \"\"}, \"colorscale\": [[0.0, \"#0d0887\"], [0.1111111111111111, \"#46039f\"], [0.2222222222222222, \"#7201a8\"], [0.3333333333333333, \"#9c179e\"], [0.4444444444444444, \"#bd3786\"], [0.5555555555555556, \"#d8576b\"], [0.6666666666666666, \"#ed7953\"], [0.7777777777777778, \"#fb9f3a\"], [0.8888888888888888, \"#fdca26\"], [1.0, \"#f0f921\"]], \"type\": \"histogram2d\"}], \"histogram2dcontour\": [{\"colorbar\": {\"outlinewidth\": 0, \"ticks\": \"\"}, \"colorscale\": [[0.0, \"#0d0887\"], [0.1111111111111111, \"#46039f\"], [0.2222222222222222, \"#7201a8\"], [0.3333333333333333, \"#9c179e\"], [0.4444444444444444, \"#bd3786\"], [0.5555555555555556, \"#d8576b\"], [0.6666666666666666, \"#ed7953\"], [0.7777777777777778, \"#fb9f3a\"], [0.8888888888888888, \"#fdca26\"], [1.0, \"#f0f921\"]], \"type\": \"histogram2dcontour\"}], \"mesh3d\": [{\"colorbar\": {\"outlinewidth\": 0, \"ticks\": \"\"}, \"type\": \"mesh3d\"}], \"parcoords\": [{\"line\": {\"colorbar\": {\"outlinewidth\": 0, \"ticks\": \"\"}}, \"type\": \"parcoords\"}], \"pie\": [{\"automargin\": true, \"type\": \"pie\"}], \"scatter\": [{\"marker\": {\"colorbar\": {\"outlinewidth\": 0, \"ticks\": \"\"}}, \"type\": \"scatter\"}], \"scatter3d\": [{\"line\": {\"colorbar\": {\"outlinewidth\": 0, \"ticks\": \"\"}}, \"marker\": {\"colorbar\": {\"outlinewidth\": 0, \"ticks\": \"\"}}, \"type\": \"scatter3d\"}], \"scattercarpet\": [{\"marker\": {\"colorbar\": {\"outlinewidth\": 0, \"ticks\": \"\"}}, \"type\": \"scattercarpet\"}], \"scattergeo\": [{\"marker\": {\"colorbar\": {\"outlinewidth\": 0, \"ticks\": \"\"}}, \"type\": \"scattergeo\"}], \"scattergl\": [{\"marker\": {\"colorbar\": {\"outlinewidth\": 0, \"ticks\": \"\"}}, \"type\": \"scattergl\"}], \"scattermapbox\": [{\"marker\": {\"colorbar\": {\"outlinewidth\": 0, \"ticks\": \"\"}}, \"type\": \"scattermapbox\"}], \"scatterpolar\": [{\"marker\": {\"colorbar\": {\"outlinewidth\": 0, \"ticks\": \"\"}}, \"type\": \"scatterpolar\"}], \"scatterpolargl\": [{\"marker\": {\"colorbar\": {\"outlinewidth\": 0, \"ticks\": \"\"}}, \"type\": \"scatterpolargl\"}], \"scatterternary\": [{\"marker\": {\"colorbar\": {\"outlinewidth\": 0, \"ticks\": \"\"}}, \"type\": \"scatterternary\"}], \"surface\": [{\"colorbar\": {\"outlinewidth\": 0, \"ticks\": \"\"}, \"colorscale\": [[0.0, \"#0d0887\"], [0.1111111111111111, \"#46039f\"], [0.2222222222222222, \"#7201a8\"], [0.3333333333333333, \"#9c179e\"], [0.4444444444444444, \"#bd3786\"], [0.5555555555555556, \"#d8576b\"], [0.6666666666666666, \"#ed7953\"], [0.7777777777777778, \"#fb9f3a\"], [0.8888888888888888, \"#fdca26\"], [1.0, \"#f0f921\"]], \"type\": \"surface\"}], \"table\": [{\"cells\": {\"fill\": {\"color\": \"#EBF0F8\"}, \"line\": {\"color\": \"white\"}}, \"header\": {\"fill\": {\"color\": \"#C8D4E3\"}, \"line\": {\"color\": \"white\"}}, \"type\": \"table\"}]}, \"layout\": {\"annotationdefaults\": {\"arrowcolor\": \"#2a3f5f\", \"arrowhead\": 0, \"arrowwidth\": 1}, \"coloraxis\": {\"colorbar\": {\"outlinewidth\": 0, \"ticks\": \"\"}}, \"colorscale\": {\"diverging\": [[0, \"#8e0152\"], [0.1, \"#c51b7d\"], [0.2, \"#de77ae\"], [0.3, \"#f1b6da\"], [0.4, \"#fde0ef\"], [0.5, \"#f7f7f7\"], [0.6, \"#e6f5d0\"], [0.7, \"#b8e186\"], [0.8, \"#7fbc41\"], [0.9, \"#4d9221\"], [1, \"#276419\"]], \"sequential\": [[0.0, \"#0d0887\"], [0.1111111111111111, \"#46039f\"], [0.2222222222222222, \"#7201a8\"], [0.3333333333333333, \"#9c179e\"], [0.4444444444444444, \"#bd3786\"], [0.5555555555555556, \"#d8576b\"], [0.6666666666666666, \"#ed7953\"], [0.7777777777777778, \"#fb9f3a\"], [0.8888888888888888, \"#fdca26\"], [1.0, \"#f0f921\"]], \"sequentialminus\": [[0.0, \"#0d0887\"], [0.1111111111111111, \"#46039f\"], [0.2222222222222222, \"#7201a8\"], [0.3333333333333333, \"#9c179e\"], [0.4444444444444444, \"#bd3786\"], [0.5555555555555556, \"#d8576b\"], [0.6666666666666666, \"#ed7953\"], [0.7777777777777778, \"#fb9f3a\"], [0.8888888888888888, \"#fdca26\"], [1.0, \"#f0f921\"]]}, \"colorway\": [\"#636efa\", \"#EF553B\", \"#00cc96\", \"#ab63fa\", \"#FFA15A\", \"#19d3f3\", \"#FF6692\", \"#B6E880\", \"#FF97FF\", \"#FECB52\"], \"font\": {\"color\": \"#2a3f5f\"}, \"geo\": {\"bgcolor\": \"white\", \"lakecolor\": \"white\", \"landcolor\": \"#E5ECF6\", \"showlakes\": true, \"showland\": true, \"subunitcolor\": \"white\"}, \"hoverlabel\": {\"align\": \"left\"}, \"hovermode\": \"closest\", \"mapbox\": {\"style\": \"light\"}, \"paper_bgcolor\": \"white\", \"plot_bgcolor\": \"#E5ECF6\", \"polar\": {\"angularaxis\": {\"gridcolor\": \"white\", \"linecolor\": \"white\", \"ticks\": \"\"}, \"bgcolor\": \"#E5ECF6\", \"radialaxis\": {\"gridcolor\": \"white\", \"linecolor\": \"white\", \"ticks\": \"\"}}, \"scene\": {\"xaxis\": {\"backgroundcolor\": \"#E5ECF6\", \"gridcolor\": \"white\", \"gridwidth\": 2, \"linecolor\": \"white\", \"showbackground\": true, \"ticks\": \"\", \"zerolinecolor\": \"white\"}, \"yaxis\": {\"backgroundcolor\": \"#E5ECF6\", \"gridcolor\": \"white\", \"gridwidth\": 2, \"linecolor\": \"white\", \"showbackground\": true, \"ticks\": \"\", \"zerolinecolor\": \"white\"}, \"zaxis\": {\"backgroundcolor\": \"#E5ECF6\", \"gridcolor\": \"white\", \"gridwidth\": 2, \"linecolor\": \"white\", \"showbackground\": true, \"ticks\": \"\", \"zerolinecolor\": \"white\"}}, \"shapedefaults\": {\"line\": {\"color\": \"#2a3f5f\"}}, \"ternary\": {\"aaxis\": {\"gridcolor\": \"white\", \"linecolor\": \"white\", \"ticks\": \"\"}, \"baxis\": {\"gridcolor\": \"white\", \"linecolor\": \"white\", \"ticks\": \"\"}, \"bgcolor\": \"#E5ECF6\", \"caxis\": {\"gridcolor\": \"white\", \"linecolor\": \"white\", \"ticks\": \"\"}}, \"title\": {\"x\": 0.05}, \"xaxis\": {\"automargin\": true, \"gridcolor\": \"white\", \"linecolor\": \"white\", \"ticks\": \"\", \"title\": {\"standoff\": 15}, \"zerolinecolor\": \"white\", \"zerolinewidth\": 2}, \"yaxis\": {\"automargin\": true, \"gridcolor\": \"white\", \"linecolor\": \"white\", \"ticks\": \"\", \"title\": {\"standoff\": 15}, \"zerolinecolor\": \"white\", \"zerolinewidth\": 2}}}},\n",
              "                        {\"responsive\": true}\n",
              "                    ).then(function(){\n",
              "                            \n",
              "var gd = document.getElementById('1cc83bb3-7ec1-4444-ab00-b86bcab8ec12');\n",
              "var x = new MutationObserver(function (mutations, observer) {{\n",
              "        var display = window.getComputedStyle(gd).display;\n",
              "        if (!display || display === 'none') {{\n",
              "            console.log([gd, 'removed!']);\n",
              "            Plotly.purge(gd);\n",
              "            observer.disconnect();\n",
              "        }}\n",
              "}});\n",
              "\n",
              "// Listen for the removal of the full notebook cells\n",
              "var notebookContainer = gd.closest('#notebook-container');\n",
              "if (notebookContainer) {{\n",
              "    x.observe(notebookContainer, {childList: true});\n",
              "}}\n",
              "\n",
              "// Listen for the clearing of the current output cell\n",
              "var outputEl = gd.closest('.output');\n",
              "if (outputEl) {{\n",
              "    x.observe(outputEl, {childList: true});\n",
              "}}\n",
              "\n",
              "                        })\n",
              "                };\n",
              "                \n",
              "            </script>\n",
              "        </div>\n",
              "</body>\n",
              "</html>"
            ]
          },
          "metadata": {
            "tags": []
          }
        }
      ]
    },
    {
      "cell_type": "markdown",
      "metadata": {
        "colab_type": "text",
        "id": "ln9fqAghRmQT"
      },
      "source": [
        "## 1.2. Use scikit-learn to fit a logistic regression model\n",
        "\n",
        "You may use any number of features"
      ]
    },
    {
      "cell_type": "code",
      "metadata": {
        "colab_type": "code",
        "id": "a2jf_deRRl64",
        "colab": {
          "base_uri": "https://localhost:8080/",
          "height": 51
        },
        "outputId": "034e75ea-97eb-4af2-9f3c-d5be2d5e5510"
      },
      "source": [
        "from sklearn.linear_model import LogisticRegression\n",
        "model = LogisticRegression()\n",
        "model.fit(X_train, y_train)\n",
        "\n",
        "print(model.score(X_train, y_train))\n",
        "\n",
        "model.coef_"
      ],
      "execution_count": 75,
      "outputs": [
        {
          "output_type": "stream",
          "text": [
            "0.7896613190730838\n"
          ],
          "name": "stdout"
        },
        {
          "output_type": "execute_result",
          "data": {
            "text/plain": [
              "array([[ 0.04758029, -0.1188298 ]])"
            ]
          },
          "metadata": {
            "tags": []
          },
          "execution_count": 75
        }
      ]
    },
    {
      "cell_type": "markdown",
      "metadata": {
        "colab_type": "text",
        "id": "Ah6EhiRVSusy"
      },
      "source": [
        "## 1.3. Report classification metric: accuracy\n",
        "\n",
        "What is your model's accuracy on the test set?\n",
        "\n",
        "Don't worry if your model doesn't beat the majority class baseline. That's okay!\n",
        "\n",
        "_\"The combination of some data and an aching desire for an answer does not ensure that a reasonable answer can be extracted from a given body of data.\"_ —[John Tukey](https://en.wikiquote.org/wiki/John_Tukey)\n",
        "\n",
        "(Also, if we used recall score instead of accuracy score, then your model would almost certainly beat the baseline. We'll discuss how to choose and interpret evaluation metrics throughout this unit.)\n"
      ]
    },
    {
      "cell_type": "code",
      "metadata": {
        "colab_type": "code",
        "id": "ZfJ2NFsASt9_",
        "colab": {
          "base_uri": "https://localhost:8080/",
          "height": 34
        },
        "outputId": "f85e6453-8f69-4f87-a6ff-ea9b2952d9ce"
      },
      "source": [
        "model.score(X_test,y_test)"
      ],
      "execution_count": 76,
      "outputs": [
        {
          "output_type": "execute_result",
          "data": {
            "text/plain": [
              "0.7272727272727273"
            ]
          },
          "metadata": {
            "tags": []
          },
          "execution_count": 76
        }
      ]
    },
    {
      "cell_type": "code",
      "metadata": {
        "id": "-Kx4jbpX8J3E",
        "colab_type": "code",
        "colab": {
          "base_uri": "https://localhost:8080/",
          "height": 316
        },
        "outputId": "0a16ca38-6219-4c7a-fe88-041514b1bb5e"
      },
      "source": [
        "import matplotlib.pyplot as plt\n",
        "\n",
        "plt.hist(y_test)"
      ],
      "execution_count": 82,
      "outputs": [
        {
          "output_type": "execute_result",
          "data": {
            "text/plain": [
              "(array([132.,   0.,   0.,   0.,   0.,   0.,   0.,   0.,   0.,  55.]),\n",
              " array([0. , 0.1, 0.2, 0.3, 0.4, 0.5, 0.6, 0.7, 0.8, 0.9, 1. ]),\n",
              " <a list of 10 Patch objects>)"
            ]
          },
          "metadata": {
            "tags": []
          },
          "execution_count": 82
        },
        {
          "output_type": "display_data",
          "data": {
            "image/png": "[encoded data removed]",
            "text/plain": [
              "<Figure size 432x288 with 1 Axes>"
            ]
          },
          "metadata": {
            "tags": []
          }
        }
      ]
    },
    {
      "cell_type": "markdown",
      "metadata": {
        "colab_type": "text",
        "id": "xDmZn3ApOM7t"
      },
      "source": [
        "# Part 2, Regression: Predict home prices in Ames, Iowa 🏠\n",
        "\n",
        "You'll use historical housing data. ***There's a data dictionary at the bottom of the notebook.*** \n",
        "\n",
        "Run this code cell to load the dataset:\n",
        "\n",
        "\n",
        "\n"
      ]
    },
    {
      "cell_type": "code",
      "metadata": {
        "colab_type": "code",
        "id": "7ptoRG1lu7H4",
        "colab": {}
      },
      "source": [
        "import pandas as pd\n",
        "URL = 'https://drive.google.com/uc?export=download&id=1522WlEW6HFss36roD_Cd9nybqSuiVcCK'\n",
        "homes = pd.read_csv(URL)\n",
        "assert homes.shape == (2904, 47)"
      ],
      "execution_count": 0,
      "outputs": []
    },
    {
      "cell_type": "markdown",
      "metadata": {
        "colab_type": "text",
        "id": "CowG-cgZ5ZrB"
      },
      "source": [
        "## 2.1. Begin with baselines\n",
        "\n",
        "What is the Mean Absolute Error and R^2 score for a mean baseline? (You can get these estimated scores using all your data, before splitting it.)"
      ]
    },
    {
      "cell_type": "code",
      "metadata": {
        "id": "G_WrD4pXjEvG",
        "colab_type": "code",
        "colab": {
          "base_uri": "https://localhost:8080/",
          "height": 224
        },
        "outputId": "51054787-5684-4fee-aea3-9aae9261e151"
      },
      "source": [
        "homes.head()"
      ],
      "execution_count": 19,
      "outputs": [
        {
          "output_type": "execute_result",
          "data": {
            "text/html": [
              "<div>\n",
              "<style scoped>\n",
              "    .dataframe tbody tr th:only-of-type {\n",
              "        vertical-align: middle;\n",
              "    }\n",
              "\n",
              "    .dataframe tbody tr th {\n",
              "        vertical-align: top;\n",
              "    }\n",
              "\n",
              "    .dataframe thead th {\n",
              "        text-align: right;\n",
              "    }\n",
              "</style>\n",
              "<table border=\"1\" class=\"dataframe\">\n",
              "  <thead>\n",
              "    <tr style=\"text-align: right;\">\n",
              "      <th></th>\n",
              "      <th>1st_Flr_SF</th>\n",
              "      <th>Bedroom_AbvGr</th>\n",
              "      <th>Bldg_Type</th>\n",
              "      <th>Bsmt_Full_Bath</th>\n",
              "      <th>Bsmt_Half_Bath</th>\n",
              "      <th>Central_Air</th>\n",
              "      <th>Condition_1</th>\n",
              "      <th>Condition_2</th>\n",
              "      <th>Electrical</th>\n",
              "      <th>Exter_Cond</th>\n",
              "      <th>Exter_Qual</th>\n",
              "      <th>Exterior_1st</th>\n",
              "      <th>Exterior_2nd</th>\n",
              "      <th>Foundation</th>\n",
              "      <th>Full_Bath</th>\n",
              "      <th>Functional</th>\n",
              "      <th>Gr_Liv_Area</th>\n",
              "      <th>Half_Bath</th>\n",
              "      <th>Heating</th>\n",
              "      <th>Heating_QC</th>\n",
              "      <th>House_Style</th>\n",
              "      <th>Kitchen_AbvGr</th>\n",
              "      <th>Kitchen_Qual</th>\n",
              "      <th>Land_Contour</th>\n",
              "      <th>Land_Slope</th>\n",
              "      <th>Lot_Area</th>\n",
              "      <th>Lot_Config</th>\n",
              "      <th>Lot_Shape</th>\n",
              "      <th>MS_SubClass</th>\n",
              "      <th>MS_Zoning</th>\n",
              "      <th>Mas_Vnr_Type</th>\n",
              "      <th>Mo_Sold</th>\n",
              "      <th>Neighborhood</th>\n",
              "      <th>Overall_Cond</th>\n",
              "      <th>Overall_Qual</th>\n",
              "      <th>Paved_Drive</th>\n",
              "      <th>Roof_Matl</th>\n",
              "      <th>Roof_Style</th>\n",
              "      <th>SalePrice</th>\n",
              "      <th>Sale_Condition</th>\n",
              "      <th>Sale_Type</th>\n",
              "      <th>Street</th>\n",
              "      <th>TotRms_AbvGrd</th>\n",
              "      <th>Utilities</th>\n",
              "      <th>Year_Built</th>\n",
              "      <th>Year_Remod/Add</th>\n",
              "      <th>Yr_Sold</th>\n",
              "    </tr>\n",
              "  </thead>\n",
              "  <tbody>\n",
              "    <tr>\n",
              "      <th>0</th>\n",
              "      <td>1656</td>\n",
              "      <td>3</td>\n",
              "      <td>1Fam</td>\n",
              "      <td>1.0</td>\n",
              "      <td>0.0</td>\n",
              "      <td>Y</td>\n",
              "      <td>Norm</td>\n",
              "      <td>Norm</td>\n",
              "      <td>SBrkr</td>\n",
              "      <td>TA</td>\n",
              "      <td>TA</td>\n",
              "      <td>BrkFace</td>\n",
              "      <td>Plywood</td>\n",
              "      <td>CBlock</td>\n",
              "      <td>1</td>\n",
              "      <td>Typ</td>\n",
              "      <td>1656</td>\n",
              "      <td>0</td>\n",
              "      <td>GasA</td>\n",
              "      <td>Fa</td>\n",
              "      <td>1Story</td>\n",
              "      <td>1</td>\n",
              "      <td>TA</td>\n",
              "      <td>Lvl</td>\n",
              "      <td>Gtl</td>\n",
              "      <td>31770</td>\n",
              "      <td>Corner</td>\n",
              "      <td>IR1</td>\n",
              "      <td>20</td>\n",
              "      <td>RL</td>\n",
              "      <td>Stone</td>\n",
              "      <td>5</td>\n",
              "      <td>NAmes</td>\n",
              "      <td>5</td>\n",
              "      <td>6</td>\n",
              "      <td>P</td>\n",
              "      <td>CompShg</td>\n",
              "      <td>Hip</td>\n",
              "      <td>215000</td>\n",
              "      <td>Normal</td>\n",
              "      <td>WD</td>\n",
              "      <td>Pave</td>\n",
              "      <td>7</td>\n",
              "      <td>AllPub</td>\n",
              "      <td>1960</td>\n",
              "      <td>1960</td>\n",
              "      <td>2010</td>\n",
              "    </tr>\n",
              "    <tr>\n",
              "      <th>1</th>\n",
              "      <td>896</td>\n",
              "      <td>2</td>\n",
              "      <td>1Fam</td>\n",
              "      <td>0.0</td>\n",
              "      <td>0.0</td>\n",
              "      <td>Y</td>\n",
              "      <td>Feedr</td>\n",
              "      <td>Norm</td>\n",
              "      <td>SBrkr</td>\n",
              "      <td>TA</td>\n",
              "      <td>TA</td>\n",
              "      <td>VinylSd</td>\n",
              "      <td>VinylSd</td>\n",
              "      <td>CBlock</td>\n",
              "      <td>1</td>\n",
              "      <td>Typ</td>\n",
              "      <td>896</td>\n",
              "      <td>0</td>\n",
              "      <td>GasA</td>\n",
              "      <td>TA</td>\n",
              "      <td>1Story</td>\n",
              "      <td>1</td>\n",
              "      <td>TA</td>\n",
              "      <td>Lvl</td>\n",
              "      <td>Gtl</td>\n",
              "      <td>11622</td>\n",
              "      <td>Inside</td>\n",
              "      <td>Reg</td>\n",
              "      <td>20</td>\n",
              "      <td>RH</td>\n",
              "      <td>None</td>\n",
              "      <td>6</td>\n",
              "      <td>NAmes</td>\n",
              "      <td>6</td>\n",
              "      <td>5</td>\n",
              "      <td>Y</td>\n",
              "      <td>CompShg</td>\n",
              "      <td>Gable</td>\n",
              "      <td>105000</td>\n",
              "      <td>Normal</td>\n",
              "      <td>WD</td>\n",
              "      <td>Pave</td>\n",
              "      <td>5</td>\n",
              "      <td>AllPub</td>\n",
              "      <td>1961</td>\n",
              "      <td>1961</td>\n",
              "      <td>2010</td>\n",
              "    </tr>\n",
              "    <tr>\n",
              "      <th>2</th>\n",
              "      <td>1329</td>\n",
              "      <td>3</td>\n",
              "      <td>1Fam</td>\n",
              "      <td>0.0</td>\n",
              "      <td>0.0</td>\n",
              "      <td>Y</td>\n",
              "      <td>Norm</td>\n",
              "      <td>Norm</td>\n",
              "      <td>SBrkr</td>\n",
              "      <td>TA</td>\n",
              "      <td>TA</td>\n",
              "      <td>Wd Sdng</td>\n",
              "      <td>Wd Sdng</td>\n",
              "      <td>CBlock</td>\n",
              "      <td>1</td>\n",
              "      <td>Typ</td>\n",
              "      <td>1329</td>\n",
              "      <td>1</td>\n",
              "      <td>GasA</td>\n",
              "      <td>TA</td>\n",
              "      <td>1Story</td>\n",
              "      <td>1</td>\n",
              "      <td>Gd</td>\n",
              "      <td>Lvl</td>\n",
              "      <td>Gtl</td>\n",
              "      <td>14267</td>\n",
              "      <td>Corner</td>\n",
              "      <td>IR1</td>\n",
              "      <td>20</td>\n",
              "      <td>RL</td>\n",
              "      <td>BrkFace</td>\n",
              "      <td>6</td>\n",
              "      <td>NAmes</td>\n",
              "      <td>6</td>\n",
              "      <td>6</td>\n",
              "      <td>Y</td>\n",
              "      <td>CompShg</td>\n",
              "      <td>Hip</td>\n",
              "      <td>172000</td>\n",
              "      <td>Normal</td>\n",
              "      <td>WD</td>\n",
              "      <td>Pave</td>\n",
              "      <td>6</td>\n",
              "      <td>AllPub</td>\n",
              "      <td>1958</td>\n",
              "      <td>1958</td>\n",
              "      <td>2010</td>\n",
              "    </tr>\n",
              "    <tr>\n",
              "      <th>3</th>\n",
              "      <td>2110</td>\n",
              "      <td>3</td>\n",
              "      <td>1Fam</td>\n",
              "      <td>1.0</td>\n",
              "      <td>0.0</td>\n",
              "      <td>Y</td>\n",
              "      <td>Norm</td>\n",
              "      <td>Norm</td>\n",
              "      <td>SBrkr</td>\n",
              "      <td>TA</td>\n",
              "      <td>Gd</td>\n",
              "      <td>BrkFace</td>\n",
              "      <td>BrkFace</td>\n",
              "      <td>CBlock</td>\n",
              "      <td>2</td>\n",
              "      <td>Typ</td>\n",
              "      <td>2110</td>\n",
              "      <td>1</td>\n",
              "      <td>GasA</td>\n",
              "      <td>Ex</td>\n",
              "      <td>1Story</td>\n",
              "      <td>1</td>\n",
              "      <td>Ex</td>\n",
              "      <td>Lvl</td>\n",
              "      <td>Gtl</td>\n",
              "      <td>11160</td>\n",
              "      <td>Corner</td>\n",
              "      <td>Reg</td>\n",
              "      <td>20</td>\n",
              "      <td>RL</td>\n",
              "      <td>None</td>\n",
              "      <td>4</td>\n",
              "      <td>NAmes</td>\n",
              "      <td>5</td>\n",
              "      <td>7</td>\n",
              "      <td>Y</td>\n",
              "      <td>CompShg</td>\n",
              "      <td>Hip</td>\n",
              "      <td>244000</td>\n",
              "      <td>Normal</td>\n",
              "      <td>WD</td>\n",
              "      <td>Pave</td>\n",
              "      <td>8</td>\n",
              "      <td>AllPub</td>\n",
              "      <td>1968</td>\n",
              "      <td>1968</td>\n",
              "      <td>2010</td>\n",
              "    </tr>\n",
              "    <tr>\n",
              "      <th>4</th>\n",
              "      <td>928</td>\n",
              "      <td>3</td>\n",
              "      <td>1Fam</td>\n",
              "      <td>0.0</td>\n",
              "      <td>0.0</td>\n",
              "      <td>Y</td>\n",
              "      <td>Norm</td>\n",
              "      <td>Norm</td>\n",
              "      <td>SBrkr</td>\n",
              "      <td>TA</td>\n",
              "      <td>TA</td>\n",
              "      <td>VinylSd</td>\n",
              "      <td>VinylSd</td>\n",
              "      <td>PConc</td>\n",
              "      <td>2</td>\n",
              "      <td>Typ</td>\n",
              "      <td>1629</td>\n",
              "      <td>1</td>\n",
              "      <td>GasA</td>\n",
              "      <td>Gd</td>\n",
              "      <td>2Story</td>\n",
              "      <td>1</td>\n",
              "      <td>TA</td>\n",
              "      <td>Lvl</td>\n",
              "      <td>Gtl</td>\n",
              "      <td>13830</td>\n",
              "      <td>Inside</td>\n",
              "      <td>IR1</td>\n",
              "      <td>60</td>\n",
              "      <td>RL</td>\n",
              "      <td>None</td>\n",
              "      <td>3</td>\n",
              "      <td>Gilbert</td>\n",
              "      <td>5</td>\n",
              "      <td>5</td>\n",
              "      <td>Y</td>\n",
              "      <td>CompShg</td>\n",
              "      <td>Gable</td>\n",
              "      <td>189900</td>\n",
              "      <td>Normal</td>\n",
              "      <td>WD</td>\n",
              "      <td>Pave</td>\n",
              "      <td>6</td>\n",
              "      <td>AllPub</td>\n",
              "      <td>1997</td>\n",
              "      <td>1998</td>\n",
              "      <td>2010</td>\n",
              "    </tr>\n",
              "  </tbody>\n",
              "</table>\n",
              "</div>"
            ],
            "text/plain": [
              "   1st_Flr_SF  Bedroom_AbvGr Bldg_Type  ...  Year_Built  Year_Remod/Add Yr_Sold\n",
              "0        1656              3      1Fam  ...        1960            1960    2010\n",
              "1         896              2      1Fam  ...        1961            1961    2010\n",
              "2        1329              3      1Fam  ...        1958            1958    2010\n",
              "3        2110              3      1Fam  ...        1968            1968    2010\n",
              "4         928              3      1Fam  ...        1997            1998    2010\n",
              "\n",
              "[5 rows x 47 columns]"
            ]
          },
          "metadata": {
            "tags": []
          },
          "execution_count": 19
        }
      ]
    },
    {
      "cell_type": "code",
      "metadata": {
        "id": "fTNGwdDYjGlS",
        "colab_type": "code",
        "colab": {
          "base_uri": "https://localhost:8080/",
          "height": 317
        },
        "outputId": "947741ee-b193-4d56-c6d4-4f84bffa3a53"
      },
      "source": [
        "homes.describe()"
      ],
      "execution_count": 20,
      "outputs": [
        {
          "output_type": "execute_result",
          "data": {
            "text/html": [
              "<div>\n",
              "<style scoped>\n",
              "    .dataframe tbody tr th:only-of-type {\n",
              "        vertical-align: middle;\n",
              "    }\n",
              "\n",
              "    .dataframe tbody tr th {\n",
              "        vertical-align: top;\n",
              "    }\n",
              "\n",
              "    .dataframe thead th {\n",
              "        text-align: right;\n",
              "    }\n",
              "</style>\n",
              "<table border=\"1\" class=\"dataframe\">\n",
              "  <thead>\n",
              "    <tr style=\"text-align: right;\">\n",
              "      <th></th>\n",
              "      <th>1st_Flr_SF</th>\n",
              "      <th>Bedroom_AbvGr</th>\n",
              "      <th>Bsmt_Full_Bath</th>\n",
              "      <th>Bsmt_Half_Bath</th>\n",
              "      <th>Full_Bath</th>\n",
              "      <th>Gr_Liv_Area</th>\n",
              "      <th>Half_Bath</th>\n",
              "      <th>Kitchen_AbvGr</th>\n",
              "      <th>Lot_Area</th>\n",
              "      <th>MS_SubClass</th>\n",
              "      <th>Mo_Sold</th>\n",
              "      <th>Overall_Cond</th>\n",
              "      <th>Overall_Qual</th>\n",
              "      <th>SalePrice</th>\n",
              "      <th>TotRms_AbvGrd</th>\n",
              "      <th>Year_Built</th>\n",
              "      <th>Year_Remod/Add</th>\n",
              "      <th>Yr_Sold</th>\n",
              "    </tr>\n",
              "  </thead>\n",
              "  <tbody>\n",
              "    <tr>\n",
              "      <th>count</th>\n",
              "      <td>2904.000000</td>\n",
              "      <td>2904.000000</td>\n",
              "      <td>2904.000000</td>\n",
              "      <td>2904.000000</td>\n",
              "      <td>2904.000000</td>\n",
              "      <td>2904.000000</td>\n",
              "      <td>2904.000000</td>\n",
              "      <td>2904.000000</td>\n",
              "      <td>2904.000000</td>\n",
              "      <td>2904.000000</td>\n",
              "      <td>2904.000000</td>\n",
              "      <td>2904.000000</td>\n",
              "      <td>2904.000000</td>\n",
              "      <td>2904.000000</td>\n",
              "      <td>2904.000000</td>\n",
              "      <td>2904.000000</td>\n",
              "      <td>2904.000000</td>\n",
              "      <td>2904.000000</td>\n",
              "    </tr>\n",
              "    <tr>\n",
              "      <th>mean</th>\n",
              "      <td>1158.257231</td>\n",
              "      <td>2.854339</td>\n",
              "      <td>0.431474</td>\n",
              "      <td>0.061639</td>\n",
              "      <td>1.562328</td>\n",
              "      <td>1497.853650</td>\n",
              "      <td>0.376722</td>\n",
              "      <td>1.044421</td>\n",
              "      <td>10130.199725</td>\n",
              "      <td>57.474174</td>\n",
              "      <td>6.206956</td>\n",
              "      <td>5.567149</td>\n",
              "      <td>6.086777</td>\n",
              "      <td>180383.689738</td>\n",
              "      <td>6.441804</td>\n",
              "      <td>1971.109504</td>\n",
              "      <td>1984.112259</td>\n",
              "      <td>2007.792011</td>\n",
              "    </tr>\n",
              "    <tr>\n",
              "      <th>std</th>\n",
              "      <td>388.351648</td>\n",
              "      <td>0.827820</td>\n",
              "      <td>0.525073</td>\n",
              "      <td>0.246202</td>\n",
              "      <td>0.551427</td>\n",
              "      <td>504.591527</td>\n",
              "      <td>0.501416</td>\n",
              "      <td>0.214260</td>\n",
              "      <td>7869.928702</td>\n",
              "      <td>42.724950</td>\n",
              "      <td>2.712204</td>\n",
              "      <td>1.113736</td>\n",
              "      <td>1.410083</td>\n",
              "      <td>79802.823684</td>\n",
              "      <td>1.573130</td>\n",
              "      <td>30.227141</td>\n",
              "      <td>20.857813</td>\n",
              "      <td>1.318719</td>\n",
              "    </tr>\n",
              "    <tr>\n",
              "      <th>min</th>\n",
              "      <td>334.000000</td>\n",
              "      <td>0.000000</td>\n",
              "      <td>0.000000</td>\n",
              "      <td>0.000000</td>\n",
              "      <td>0.000000</td>\n",
              "      <td>334.000000</td>\n",
              "      <td>0.000000</td>\n",
              "      <td>0.000000</td>\n",
              "      <td>1300.000000</td>\n",
              "      <td>20.000000</td>\n",
              "      <td>1.000000</td>\n",
              "      <td>1.000000</td>\n",
              "      <td>1.000000</td>\n",
              "      <td>12789.000000</td>\n",
              "      <td>2.000000</td>\n",
              "      <td>1872.000000</td>\n",
              "      <td>1950.000000</td>\n",
              "      <td>2006.000000</td>\n",
              "    </tr>\n",
              "    <tr>\n",
              "      <th>25%</th>\n",
              "      <td>876.750000</td>\n",
              "      <td>2.000000</td>\n",
              "      <td>0.000000</td>\n",
              "      <td>0.000000</td>\n",
              "      <td>1.000000</td>\n",
              "      <td>1124.000000</td>\n",
              "      <td>0.000000</td>\n",
              "      <td>1.000000</td>\n",
              "      <td>7424.750000</td>\n",
              "      <td>20.000000</td>\n",
              "      <td>4.000000</td>\n",
              "      <td>5.000000</td>\n",
              "      <td>5.000000</td>\n",
              "      <td>129150.000000</td>\n",
              "      <td>5.000000</td>\n",
              "      <td>1953.000000</td>\n",
              "      <td>1965.000000</td>\n",
              "      <td>2007.000000</td>\n",
              "    </tr>\n",
              "    <tr>\n",
              "      <th>50%</th>\n",
              "      <td>1083.500000</td>\n",
              "      <td>3.000000</td>\n",
              "      <td>0.000000</td>\n",
              "      <td>0.000000</td>\n",
              "      <td>2.000000</td>\n",
              "      <td>1440.500000</td>\n",
              "      <td>0.000000</td>\n",
              "      <td>1.000000</td>\n",
              "      <td>9429.000000</td>\n",
              "      <td>50.000000</td>\n",
              "      <td>6.000000</td>\n",
              "      <td>5.000000</td>\n",
              "      <td>6.000000</td>\n",
              "      <td>160000.000000</td>\n",
              "      <td>6.000000</td>\n",
              "      <td>1973.000000</td>\n",
              "      <td>1993.000000</td>\n",
              "      <td>2008.000000</td>\n",
              "    </tr>\n",
              "    <tr>\n",
              "      <th>75%</th>\n",
              "      <td>1383.000000</td>\n",
              "      <td>3.000000</td>\n",
              "      <td>1.000000</td>\n",
              "      <td>0.000000</td>\n",
              "      <td>2.000000</td>\n",
              "      <td>1740.500000</td>\n",
              "      <td>1.000000</td>\n",
              "      <td>1.000000</td>\n",
              "      <td>11516.250000</td>\n",
              "      <td>70.000000</td>\n",
              "      <td>8.000000</td>\n",
              "      <td>6.000000</td>\n",
              "      <td>7.000000</td>\n",
              "      <td>213000.000000</td>\n",
              "      <td>7.000000</td>\n",
              "      <td>2000.000000</td>\n",
              "      <td>2004.000000</td>\n",
              "      <td>2009.000000</td>\n",
              "    </tr>\n",
              "    <tr>\n",
              "      <th>max</th>\n",
              "      <td>5095.000000</td>\n",
              "      <td>8.000000</td>\n",
              "      <td>3.000000</td>\n",
              "      <td>2.000000</td>\n",
              "      <td>4.000000</td>\n",
              "      <td>5642.000000</td>\n",
              "      <td>2.000000</td>\n",
              "      <td>3.000000</td>\n",
              "      <td>215245.000000</td>\n",
              "      <td>190.000000</td>\n",
              "      <td>12.000000</td>\n",
              "      <td>9.000000</td>\n",
              "      <td>10.000000</td>\n",
              "      <td>755000.000000</td>\n",
              "      <td>15.000000</td>\n",
              "      <td>2010.000000</td>\n",
              "      <td>2010.000000</td>\n",
              "      <td>2010.000000</td>\n",
              "    </tr>\n",
              "  </tbody>\n",
              "</table>\n",
              "</div>"
            ],
            "text/plain": [
              "        1st_Flr_SF  Bedroom_AbvGr  ...  Year_Remod/Add      Yr_Sold\n",
              "count  2904.000000    2904.000000  ...     2904.000000  2904.000000\n",
              "mean   1158.257231       2.854339  ...     1984.112259  2007.792011\n",
              "std     388.351648       0.827820  ...       20.857813     1.318719\n",
              "min     334.000000       0.000000  ...     1950.000000  2006.000000\n",
              "25%     876.750000       2.000000  ...     1965.000000  2007.000000\n",
              "50%    1083.500000       3.000000  ...     1993.000000  2008.000000\n",
              "75%    1383.000000       3.000000  ...     2004.000000  2009.000000\n",
              "max    5095.000000       8.000000  ...     2010.000000  2010.000000\n",
              "\n",
              "[8 rows x 18 columns]"
            ]
          },
          "metadata": {
            "tags": []
          },
          "execution_count": 20
        }
      ]
    },
    {
      "cell_type": "code",
      "metadata": {
        "id": "cnuWy22vqwpz",
        "colab_type": "code",
        "colab": {
          "base_uri": "https://localhost:8080/",
          "height": 833
        },
        "outputId": "e0b8aa26-6fbd-4536-fc45-39f8f0d70d67"
      },
      "source": [
        "homes.dtypes"
      ],
      "execution_count": 38,
      "outputs": [
        {
          "output_type": "execute_result",
          "data": {
            "text/plain": [
              "1st_Flr_SF          int64\n",
              "Bedroom_AbvGr       int64\n",
              "Bldg_Type          object\n",
              "Bsmt_Full_Bath    float64\n",
              "Bsmt_Half_Bath    float64\n",
              "Central_Air        object\n",
              "Condition_1        object\n",
              "Condition_2        object\n",
              "Electrical         object\n",
              "Exter_Cond         object\n",
              "Exter_Qual         object\n",
              "Exterior_1st       object\n",
              "Exterior_2nd       object\n",
              "Foundation         object\n",
              "Full_Bath           int64\n",
              "Functional         object\n",
              "Gr_Liv_Area         int64\n",
              "Half_Bath           int64\n",
              "Heating            object\n",
              "Heating_QC         object\n",
              "House_Style        object\n",
              "Kitchen_AbvGr       int64\n",
              "Kitchen_Qual       object\n",
              "Land_Contour       object\n",
              "Land_Slope         object\n",
              "Lot_Area            int64\n",
              "Lot_Config         object\n",
              "Lot_Shape          object\n",
              "MS_SubClass         int64\n",
              "MS_Zoning          object\n",
              "Mas_Vnr_Type       object\n",
              "Mo_Sold             int64\n",
              "Neighborhood       object\n",
              "Overall_Cond        int64\n",
              "Overall_Qual        int64\n",
              "Paved_Drive        object\n",
              "Roof_Matl          object\n",
              "Roof_Style         object\n",
              "SalePrice           int64\n",
              "Sale_Condition     object\n",
              "Sale_Type          object\n",
              "Street             object\n",
              "TotRms_AbvGrd       int64\n",
              "Utilities          object\n",
              "Year_Built          int64\n",
              "Year_Remod/Add      int64\n",
              "Yr_Sold             int64\n",
              "dtype: object"
            ]
          },
          "metadata": {
            "tags": []
          },
          "execution_count": 38
        }
      ]
    },
    {
      "cell_type": "code",
      "metadata": {
        "id": "agWWer1vjfSg",
        "colab_type": "code",
        "colab": {
          "base_uri": "https://localhost:8080/",
          "height": 34
        },
        "outputId": "fa74a042-28f5-4363-9a9a-e8343d8cdc5c"
      },
      "source": [
        "#establish baseline value\n",
        "mean_sale = homes.SalePrice.mean()\n",
        "print(mean_sale)"
      ],
      "execution_count": 43,
      "outputs": [
        {
          "output_type": "stream",
          "text": [
            "180383.689738292\n"
          ],
          "name": "stdout"
        }
      ]
    },
    {
      "cell_type": "code",
      "metadata": {
        "colab_type": "code",
        "id": "TbahVr-j5ZLs",
        "colab": {
          "base_uri": "https://localhost:8080/",
          "height": 71
        },
        "outputId": "c79638e5-5109-451b-e9ad-689718484fdf"
      },
      "source": [
        "from sklearn.metrics import mean_absolute_error, r2_score\n",
        "\n",
        "#use baseline mean value for calculating baseline errors\n",
        "base_y_pred = [mean_sale] * len(homes.SalePrice)\n",
        "base_mae = mean_absolute_error(homes.SalePrice,base_y_pred)\n",
        "base_r2 = r2_score(homes.SalePrice,base_y_pred)\n",
        "print('Base MAE:',base_mae,'Base R2:', base_r2)\n"
      ],
      "execution_count": 23,
      "outputs": [
        {
          "output_type": "stream",
          "text": [
            "[180383.689738292, 180383.689738292, 180383.689738292, 180383.689738292, 180383.689738292, 180383.689738292, 180383.689738292, 180383.689738292, 180383.689738292, 180383.689738292, 180383.689738292, 180383.689738292, 180383.689738292, 180383.689738292, 180383.689738292, 180383.689738292, 180383.689738292, 180383.689738292, 180383.689738292, 180383.689738292, 180383.689738292, 180383.689738292, 180383.689738292, 180383.689738292, 180383.689738292, 180383.689738292, 180383.689738292, 180383.689738292, 180383.689738292, 180383.689738292, 180383.689738292, 180383.689738292, 180383.689738292, 180383.689738292, 180383.689738292, 180383.689738292, 180383.689738292, 180383.689738292, 180383.689738292, 180383.689738292, 180383.689738292, 180383.689738292, 180383.689738292, 180383.689738292, 180383.689738292, 180383.689738292, 180383.689738292, 180383.689738292, 180383.689738292, 180383.689738292, 180383.689738292, 180383.689738292, 180383.689738292, 180383.689738292, 180383.689738292, 180383.689738292, 180383.689738292, 180383.689738292, 180383.689738292, 180383.689738292, 180383.689738292, 180383.689738292, 180383.689738292, 180383.689738292, 180383.689738292, 180383.689738292, 180383.689738292, 180383.689738292, 180383.689738292, 180383.689738292, 180383.689738292, 180383.689738292, 180383.689738292, 180383.689738292, 180383.689738292, 180383.689738292, 180383.689738292, 180383.689738292, 180383.689738292, 180383.689738292, 180383.689738292, 180383.689738292, 180383.689738292, 180383.689738292, 180383.689738292, 180383.689738292, 180383.689738292, 180383.689738292, 180383.689738292, 180383.689738292, 180383.689738292, 180383.689738292, 180383.689738292, 180383.689738292, 180383.689738292, 180383.689738292, 180383.689738292, 180383.689738292, 180383.689738292, 180383.689738292, 180383.689738292, 180383.689738292, 180383.689738292, 180383.689738292, 180383.689738292, 180383.689738292, 180383.689738292, 180383.689738292, 180383.689738292, 180383.689738292, 180383.689738292, 180383.689738292, 180383.689738292, 180383.689738292, 180383.689738292, 180383.689738292, 180383.689738292, 180383.689738292, 180383.689738292, 180383.689738292, 180383.689738292, 180383.689738292, 180383.689738292, 180383.689738292, 180383.689738292, 180383.689738292, 180383.689738292, 180383.689738292, 180383.689738292, 180383.689738292, 180383.689738292, 180383.689738292, 180383.689738292, 180383.689738292, 180383.689738292, 180383.689738292, 180383.689738292, 180383.689738292, 180383.689738292, 180383.689738292, 180383.689738292, 180383.689738292, 180383.689738292, 180383.689738292, 180383.689738292, 180383.689738292, 180383.689738292, 180383.689738292, 180383.689738292, 180383.689738292, 180383.689738292, 180383.689738292, 180383.689738292, 180383.689738292, 180383.689738292, 180383.689738292, 180383.689738292, 180383.689738292, 180383.689738292, 180383.689738292, 180383.689738292, 180383.689738292, 180383.689738292, 180383.689738292, 180383.689738292, 180383.689738292, 180383.689738292, 180383.689738292, 180383.689738292, 180383.689738292, 180383.689738292, 180383.689738292, 180383.689738292, 180383.689738292, 180383.689738292, 180383.689738292, 180383.689738292, 180383.689738292, 180383.689738292, 180383.689738292, 180383.689738292, 180383.689738292, 180383.689738292, 180383.689738292, 180383.689738292, 180383.689738292, 180383.689738292, 180383.689738292, 180383.689738292, 180383.689738292, 180383.689738292, 180383.689738292, 180383.689738292, 180383.689738292, 180383.689738292, 180383.689738292, 180383.689738292, 180383.689738292, 180383.689738292, 180383.689738292, 180383.689738292, 180383.689738292, 180383.689738292, 180383.689738292, 180383.689738292, 180383.689738292, 180383.689738292, 180383.689738292, 180383.689738292, 180383.689738292, 180383.689738292, 180383.689738292, 180383.689738292, 180383.689738292, 180383.689738292, 180383.689738292, 180383.689738292, 180383.689738292, 180383.689738292, 180383.689738292, 180383.689738292, 180383.689738292, 180383.689738292, 180383.689738292, 180383.689738292, 180383.689738292, 180383.689738292, 180383.689738292, 180383.689738292, 180383.689738292, 180383.689738292, 180383.689738292, 180383.689738292, 180383.689738292, 180383.689738292, 180383.689738292, 180383.689738292, 180383.689738292, 180383.689738292, 180383.689738292, 180383.689738292, 180383.689738292, 180383.689738292, 180383.689738292, 180383.689738292, 180383.689738292, 180383.689738292, 180383.689738292, 180383.689738292, 180383.689738292, 180383.689738292, 180383.689738292, 180383.689738292, 180383.689738292, 180383.689738292, 180383.689738292, 180383.689738292, 180383.689738292, 180383.689738292, 180383.689738292, 180383.689738292, 180383.689738292, 180383.689738292, 180383.689738292, 180383.689738292, 180383.689738292, 180383.689738292, 180383.689738292, 180383.689738292, 180383.689738292, 180383.689738292, 180383.689738292, 180383.689738292, 180383.689738292, 180383.689738292, 180383.689738292, 180383.689738292, 180383.689738292, 180383.689738292, 180383.689738292, 180383.689738292, 180383.689738292, 180383.689738292, 180383.689738292, 180383.689738292, 180383.689738292, 180383.689738292, 180383.689738292, 180383.689738292, 180383.689738292, 180383.689738292, 180383.689738292, 180383.689738292, 180383.689738292, 180383.689738292, 180383.689738292, 180383.689738292, 180383.689738292, 180383.689738292, 180383.689738292, 180383.689738292, 180383.689738292, 180383.689738292, 180383.689738292, 180383.689738292, 180383.689738292, 180383.689738292, 180383.689738292, 180383.689738292, 180383.689738292, 180383.689738292, 180383.689738292, 180383.689738292, 180383.689738292, 180383.689738292, 180383.689738292, 180383.689738292, 180383.689738292, 180383.689738292, 180383.689738292, 180383.689738292, 180383.689738292, 180383.689738292, 180383.689738292, 180383.689738292, 180383.689738292, 180383.689738292, 180383.689738292, 180383.689738292, 180383.689738292, 180383.689738292, 180383.689738292, 180383.689738292, 180383.689738292, 180383.689738292, 180383.689738292, 180383.689738292, 180383.689738292, 180383.689738292, 180383.689738292, 180383.689738292, 180383.689738292, 180383.689738292, 180383.689738292, 180383.689738292, 180383.689738292, 180383.689738292, 180383.689738292, 180383.689738292, 180383.689738292, 180383.689738292, 180383.689738292, 180383.689738292, 180383.689738292, 180383.689738292, 180383.689738292, 180383.689738292, 180383.689738292, 180383.689738292, 180383.689738292, 180383.689738292, 180383.689738292, 180383.689738292, 180383.689738292, 180383.689738292, 180383.689738292, 180383.689738292, 180383.689738292, 180383.689738292, 180383.689738292, 180383.689738292, 180383.689738292, 180383.689738292, 180383.689738292, 180383.689738292, 180383.689738292, 180383.689738292, 180383.689738292, 180383.689738292, 180383.689738292, 180383.689738292, 180383.689738292, 180383.689738292, 180383.689738292, 180383.689738292, 180383.689738292, 180383.689738292, 180383.689738292, 180383.689738292, 180383.689738292, 180383.689738292, 180383.689738292, 180383.689738292, 180383.689738292, 180383.689738292, 180383.689738292, 180383.689738292, 180383.689738292, 180383.689738292, 180383.689738292, 180383.689738292, 180383.689738292, 180383.689738292, 180383.689738292, 180383.689738292, 180383.689738292, 180383.689738292, 180383.689738292, 180383.689738292, 180383.689738292, 180383.689738292, 180383.689738292, 180383.689738292, 180383.689738292, 180383.689738292, 180383.689738292, 180383.689738292, 180383.689738292, 180383.689738292, 180383.689738292, 180383.689738292, 180383.689738292, 180383.689738292, 180383.689738292, 180383.689738292, 180383.689738292, 180383.689738292, 180383.689738292, 180383.689738292, 180383.689738292, 180383.689738292, 180383.689738292, 180383.689738292, 180383.689738292, 180383.689738292, 180383.689738292, 180383.689738292, 180383.689738292, 180383.689738292, 180383.689738292, 180383.689738292, 180383.689738292, 180383.689738292, 180383.689738292, 180383.689738292, 180383.689738292, 180383.689738292, 180383.689738292, 180383.689738292, 180383.689738292, 180383.689738292, 180383.689738292, 180383.689738292, 180383.689738292, 180383.689738292, 180383.689738292, 180383.689738292, 180383.689738292, 180383.689738292, 180383.689738292, 180383.689738292, 180383.689738292, 180383.689738292, 180383.689738292, 180383.689738292, 180383.689738292, 180383.689738292, 180383.689738292, 180383.689738292, 180383.689738292, 180383.689738292, 180383.689738292, 180383.689738292, 180383.689738292, 180383.689738292, 180383.689738292, 180383.689738292, 180383.689738292, 180383.689738292, 180383.689738292, 180383.689738292, 180383.689738292, 180383.689738292, 180383.689738292, 180383.689738292, 180383.689738292, 180383.689738292, 180383.689738292, 180383.689738292, 180383.689738292, 180383.689738292, 180383.689738292, 180383.689738292, 180383.689738292, 180383.689738292, 180383.689738292, 180383.689738292, 180383.689738292, 180383.689738292, 180383.689738292, 180383.689738292, 180383.689738292, 180383.689738292, 180383.689738292, 180383.689738292, 180383.689738292, 180383.689738292, 180383.689738292, 180383.689738292, 180383.689738292, 180383.689738292, 180383.689738292, 180383.689738292, 180383.689738292, 180383.689738292, 180383.689738292, 180383.689738292, 180383.689738292, 180383.689738292, 180383.689738292, 180383.689738292, 180383.689738292, 180383.689738292, 180383.689738292, 180383.689738292, 180383.689738292, 180383.689738292, 180383.689738292, 180383.689738292, 180383.689738292, 180383.689738292, 180383.689738292, 180383.689738292, 180383.689738292, 180383.689738292, 180383.689738292, 180383.689738292, 180383.689738292, 180383.689738292, 180383.689738292, 180383.689738292, 180383.689738292, 180383.689738292, 180383.689738292, 180383.689738292, 180383.689738292, 180383.689738292, 180383.689738292, 180383.689738292, 180383.689738292, 180383.689738292, 180383.689738292, 180383.689738292, 180383.689738292, 180383.689738292, 180383.689738292, 180383.689738292, 180383.689738292, 180383.689738292, 180383.689738292, 180383.689738292, 180383.689738292, 180383.689738292, 180383.689738292, 180383.689738292, 180383.689738292, 180383.689738292, 180383.689738292, 180383.689738292, 180383.689738292, 180383.689738292, 180383.689738292, 180383.689738292, 180383.689738292, 180383.689738292, 180383.689738292, 180383.689738292, 180383.689738292, 180383.689738292, 180383.689738292, 180383.689738292, 180383.689738292, 180383.689738292, 180383.689738292, 180383.689738292, 180383.689738292, 180383.689738292, 180383.689738292, 180383.689738292, 180383.689738292, 180383.689738292, 180383.689738292, 180383.689738292, 180383.689738292, 180383.689738292, 180383.689738292, 180383.689738292, 180383.689738292, 180383.689738292, 180383.689738292, 180383.689738292, 180383.689738292, 180383.689738292, 180383.689738292, 180383.689738292, 180383.689738292, 180383.689738292, 180383.689738292, 180383.689738292, 180383.689738292, 180383.689738292, 180383.689738292, 180383.689738292, 180383.689738292, 180383.689738292, 180383.689738292, 180383.689738292, 180383.689738292, 180383.689738292, 180383.689738292, 180383.689738292, 180383.689738292, 180383.689738292, 180383.689738292, 180383.689738292, 180383.689738292, 180383.689738292, 180383.689738292, 180383.689738292, 180383.689738292, 180383.689738292, 180383.689738292, 180383.689738292, 180383.689738292, 180383.689738292, 180383.689738292, 180383.689738292, 180383.689738292, 180383.689738292, 180383.689738292, 180383.689738292, 180383.689738292, 180383.689738292, 180383.689738292, 180383.689738292, 180383.689738292, 180383.689738292, 180383.689738292, 180383.689738292, 180383.689738292, 180383.689738292, 180383.689738292, 180383.689738292, 180383.689738292, 180383.689738292, 180383.689738292, 180383.689738292, 180383.689738292, 180383.689738292, 180383.689738292, 180383.689738292, 180383.689738292, 180383.689738292, 180383.689738292, 180383.689738292, 180383.689738292, 180383.689738292, 180383.689738292, 180383.689738292, 180383.689738292, 180383.689738292, 180383.689738292, 180383.689738292, 180383.689738292, 180383.689738292, 180383.689738292, 180383.689738292, 180383.689738292, 180383.689738292, 180383.689738292, 180383.689738292, 180383.689738292, 180383.689738292, 180383.689738292, 180383.689738292, 180383.689738292, 180383.689738292, 180383.689738292, 180383.689738292, 180383.689738292, 180383.689738292, 180383.689738292, 180383.689738292, 180383.689738292, 180383.689738292, 180383.689738292, 180383.689738292, 180383.689738292, 180383.689738292, 180383.689738292, 180383.689738292, 180383.689738292, 180383.689738292, 180383.689738292, 180383.689738292, 180383.689738292, 180383.689738292, 180383.689738292, 180383.689738292, 180383.689738292, 180383.689738292, 180383.689738292, 180383.689738292, 180383.689738292, 180383.689738292, 180383.689738292, 180383.689738292, 180383.689738292, 180383.689738292, 180383.689738292, 180383.689738292, 180383.689738292, 180383.689738292, 180383.689738292, 180383.689738292, 180383.689738292, 180383.689738292, 180383.689738292, 180383.689738292, 180383.689738292, 180383.689738292, 180383.689738292, 180383.689738292, 180383.689738292, 180383.689738292, 180383.689738292, 180383.689738292, 180383.689738292, 180383.689738292, 180383.689738292, 180383.689738292, 180383.689738292, 180383.689738292, 180383.689738292, 180383.689738292, 180383.689738292, 180383.689738292, 180383.689738292, 180383.689738292, 180383.689738292, 180383.689738292, 180383.689738292, 180383.689738292, 180383.689738292, 180383.689738292, 180383.689738292, 180383.689738292, 180383.689738292, 180383.689738292, 180383.689738292, 180383.689738292, 180383.689738292, 180383.689738292, 180383.689738292, 180383.689738292, 180383.689738292, 180383.689738292, 180383.689738292, 180383.689738292, 180383.689738292, 180383.689738292, 180383.689738292, 180383.689738292, 180383.689738292, 180383.689738292, 180383.689738292, 180383.689738292, 180383.689738292, 180383.689738292, 180383.689738292, 180383.689738292, 180383.689738292, 180383.689738292, 180383.689738292, 180383.689738292, 180383.689738292, 180383.689738292, 180383.689738292, 180383.689738292, 180383.689738292, 180383.689738292, 180383.689738292, 180383.689738292, 180383.689738292, 180383.689738292, 180383.689738292, 180383.689738292, 180383.689738292, 180383.689738292, 180383.689738292, 180383.689738292, 180383.689738292, 180383.689738292, 180383.689738292, 180383.689738292, 180383.689738292, 180383.689738292, 180383.689738292, 180383.689738292, 180383.689738292, 180383.689738292, 180383.689738292, 180383.689738292, 180383.689738292, 180383.689738292, 180383.689738292, 180383.689738292, 180383.689738292, 180383.689738292, 180383.689738292, 180383.689738292, 180383.689738292, 180383.689738292, 180383.689738292, 180383.689738292, 180383.689738292, 180383.689738292, 180383.689738292, 180383.689738292, 180383.689738292, 180383.689738292, 180383.689738292, 180383.689738292, 180383.689738292, 180383.689738292, 180383.689738292, 180383.689738292, 180383.689738292, 180383.689738292, 180383.689738292, 180383.689738292, 180383.689738292, 180383.689738292, 180383.689738292, 180383.689738292, 180383.689738292, 180383.689738292, 180383.689738292, 180383.689738292, 180383.689738292, 180383.689738292, 180383.689738292, 180383.689738292, 180383.689738292, 180383.689738292, 180383.689738292, 180383.689738292, 180383.689738292, 180383.689738292, 180383.689738292, 180383.689738292, 180383.689738292, 180383.689738292, 180383.689738292, 180383.689738292, 180383.689738292, 180383.689738292, 180383.689738292, 180383.689738292, 180383.689738292, 180383.689738292, 180383.689738292, 180383.689738292, 180383.689738292, 180383.689738292, 180383.689738292, 180383.689738292, 180383.689738292, 180383.689738292, 180383.689738292, 180383.689738292, 180383.689738292, 180383.689738292, 180383.689738292, 180383.689738292, 180383.689738292, 180383.689738292, 180383.689738292, 180383.689738292, 180383.689738292, 180383.689738292, 180383.689738292, 180383.689738292, 180383.689738292, 180383.689738292, 180383.689738292, 180383.689738292, 180383.689738292, 180383.689738292, 180383.689738292, 180383.689738292, 180383.689738292, 180383.689738292, 180383.689738292, 180383.689738292, 180383.689738292, 180383.689738292, 180383.689738292, 180383.689738292, 180383.689738292, 180383.689738292, 180383.689738292, 180383.689738292, 180383.689738292, 180383.689738292, 180383.689738292, 180383.689738292, 180383.689738292, 180383.689738292, 180383.689738292, 180383.689738292, 180383.689738292, 180383.689738292, 180383.689738292, 180383.689738292, 180383.689738292, 180383.689738292, 180383.689738292, 180383.689738292, 180383.689738292, 180383.689738292, 180383.689738292, 180383.689738292, 180383.689738292, 180383.689738292, 180383.689738292, 180383.689738292, 180383.689738292, 180383.689738292, 180383.689738292, 180383.689738292, 180383.689738292, 180383.689738292, 180383.689738292, 180383.689738292, 180383.689738292, 180383.689738292, 180383.689738292, 180383.689738292, 180383.689738292, 180383.689738292, 180383.689738292, 180383.689738292, 180383.689738292, 180383.689738292, 180383.689738292, 180383.689738292, 180383.689738292, 180383.689738292, 180383.689738292, 180383.689738292, 180383.689738292, 180383.689738292, 180383.689738292, 180383.689738292, 180383.689738292, 180383.689738292, 180383.689738292, 180383.689738292, 180383.689738292, 180383.689738292, 180383.689738292, 180383.689738292, 180383.689738292, 180383.689738292, 180383.689738292, 180383.689738292, 180383.689738292, 180383.689738292, 180383.689738292, 180383.689738292, 180383.689738292, 180383.689738292, 180383.689738292, 180383.689738292, 180383.689738292, 180383.689738292, 180383.689738292, 180383.689738292, 180383.689738292, 180383.689738292, 180383.689738292, 180383.689738292, 180383.689738292, 180383.689738292, 180383.689738292, 180383.689738292, 180383.689738292, 180383.689738292, 180383.689738292, 180383.689738292, 180383.689738292, 180383.689738292, 180383.689738292, 180383.689738292, 180383.689738292, 180383.689738292, 180383.689738292, 180383.689738292, 180383.689738292, 180383.689738292, 180383.689738292, 180383.689738292, 180383.689738292, 180383.689738292, 180383.689738292, 180383.689738292, 180383.689738292, 180383.689738292, 180383.689738292, 180383.689738292, 180383.689738292, 180383.689738292, 180383.689738292, 180383.689738292, 180383.689738292, 180383.689738292, 180383.689738292, 180383.689738292, 180383.689738292, 180383.689738292, 180383.689738292, 180383.689738292, 180383.689738292, 180383.689738292, 180383.689738292, 180383.689738292, 180383.689738292, 180383.689738292, 180383.689738292, 180383.689738292, 180383.689738292, 180383.689738292, 180383.689738292, 180383.689738292, 180383.689738292, 180383.689738292, 180383.689738292, 180383.689738292, 180383.689738292, 180383.689738292, 180383.689738292, 180383.689738292, 180383.689738292, 180383.689738292, 180383.689738292, 180383.689738292, 180383.689738292, 180383.689738292, 180383.689738292, 180383.689738292, 180383.689738292, 180383.689738292, 180383.689738292, 180383.689738292, 180383.689738292, 180383.689738292, 180383.689738292, 180383.689738292, 180383.689738292, 180383.689738292, 180383.689738292, 180383.689738292, 180383.689738292, 180383.689738292, 180383.689738292, 180383.689738292, 180383.689738292, 180383.689738292, 180383.689738292, 180383.689738292, 180383.689738292, 180383.689738292, 180383.689738292, 180383.689738292, 180383.689738292, 180383.689738292, 180383.689738292, 180383.689738292, 180383.689738292, 180383.689738292, 180383.689738292, 180383.689738292, 180383.689738292, 180383.689738292, 180383.689738292, 180383.689738292, 180383.689738292, 180383.689738292, 180383.689738292, 180383.689738292, 180383.689738292, 180383.689738292, 180383.689738292, 180383.689738292, 180383.689738292, 180383.689738292, 180383.689738292, 180383.689738292, 180383.689738292, 180383.689738292, 180383.689738292, 180383.689738292, 180383.689738292, 180383.689738292, 180383.689738292, 180383.689738292, 180383.689738292, 180383.689738292, 180383.689738292, 180383.689738292, 180383.689738292, 180383.689738292, 180383.689738292, 180383.689738292, 180383.689738292, 180383.689738292, 180383.689738292, 180383.689738292, 180383.689738292, 180383.689738292, 180383.689738292, 180383.689738292, 180383.689738292, 180383.689738292, 180383.689738292, 180383.689738292, 180383.689738292, 180383.689738292, 180383.689738292, 180383.689738292, 180383.689738292, 180383.689738292, 180383.689738292, 180383.689738292, 180383.689738292, 180383.689738292, 180383.689738292, 180383.689738292, 180383.689738292, 180383.689738292, 180383.689738292, 180383.689738292, 180383.689738292, 180383.689738292, 180383.689738292, 180383.689738292, 180383.689738292, 180383.689738292, 180383.689738292, 180383.689738292, 180383.689738292, 180383.689738292, 180383.689738292, 180383.689738292, 180383.689738292, 180383.689738292, 180383.689738292, 180383.689738292, 180383.689738292, 180383.689738292, 180383.689738292, 180383.689738292, 180383.689738292, 180383.689738292, 180383.689738292, 180383.689738292, 180383.689738292, 180383.689738292, 180383.689738292, 180383.689738292, 180383.689738292, 180383.689738292, 180383.689738292, 180383.689738292, 180383.689738292, 180383.689738292, 180383.689738292, 180383.689738292, 180383.689738292, 180383.689738292, 180383.689738292, 180383.689738292, 180383.689738292, 180383.689738292, 180383.689738292, 180383.689738292, 180383.689738292, 180383.689738292, 180383.689738292, 180383.689738292, 180383.689738292, 180383.689738292, 180383.689738292, 180383.689738292, 180383.689738292, 180383.689738292, 180383.689738292, 180383.689738292, 180383.689738292, 180383.689738292, 180383.689738292, 180383.689738292, 180383.689738292, 180383.689738292, 180383.689738292, 180383.689738292, 180383.689738292, 180383.689738292, 180383.689738292, 180383.689738292, 180383.689738292, 180383.689738292, 180383.689738292, 180383.689738292, 180383.689738292, 180383.689738292, 180383.689738292, 180383.689738292, 180383.689738292, 180383.689738292, 180383.689738292, 180383.689738292, 180383.689738292, 180383.689738292, 180383.689738292, 180383.689738292, 180383.689738292, 180383.689738292, 180383.689738292, 180383.689738292, 180383.689738292, 180383.689738292, 180383.689738292, 180383.689738292, 180383.689738292, 180383.689738292, 180383.689738292, 180383.689738292, 180383.689738292, 180383.689738292, 180383.689738292, 180383.689738292, 180383.689738292, 180383.689738292, 180383.689738292, 180383.689738292, 180383.689738292, 180383.689738292, 180383.689738292, 180383.689738292, 180383.689738292, 180383.689738292, 180383.689738292, 180383.689738292, 180383.689738292, 180383.689738292, 180383.689738292, 180383.689738292, 180383.689738292, 180383.689738292, 180383.689738292, 180383.689738292, 180383.689738292, 180383.689738292, 180383.689738292, 180383.689738292, 180383.689738292, 180383.689738292, 180383.689738292, 180383.689738292, 180383.689738292, 180383.689738292, 180383.689738292, 180383.689738292, 180383.689738292, 180383.689738292, 180383.689738292, 180383.689738292, 180383.689738292, 180383.689738292, 180383.689738292, 180383.689738292, 180383.689738292, 180383.689738292, 180383.689738292, 180383.689738292, 180383.689738292, 180383.689738292, 180383.689738292, 180383.689738292, 180383.689738292, 180383.689738292, 180383.689738292, 180383.689738292, 180383.689738292, 180383.689738292, 180383.689738292, 180383.689738292, 180383.689738292, 180383.689738292, 180383.689738292, 180383.689738292, 180383.689738292, 180383.689738292, 180383.689738292, 180383.689738292, 180383.689738292, 180383.689738292, 180383.689738292, 180383.689738292, 180383.689738292, 180383.689738292, 180383.689738292, 180383.689738292, 180383.689738292, 180383.689738292, 180383.689738292, 180383.689738292, 180383.689738292, 180383.689738292, 180383.689738292, 180383.689738292, 180383.689738292, 180383.689738292, 180383.689738292, 180383.689738292, 180383.689738292, 180383.689738292, 180383.689738292, 180383.689738292, 180383.689738292, 180383.689738292, 180383.689738292, 180383.689738292, 180383.689738292, 180383.689738292, 180383.689738292, 180383.689738292, 180383.689738292, 180383.689738292, 180383.689738292, 180383.689738292, 180383.689738292, 180383.689738292, 180383.689738292, 180383.689738292, 180383.689738292, 180383.689738292, 180383.689738292, 180383.689738292, 180383.689738292, 180383.689738292, 180383.689738292, 180383.689738292, 180383.689738292, 180383.689738292, 180383.689738292, 180383.689738292, 180383.689738292, 180383.689738292, 180383.689738292, 180383.689738292, 180383.689738292, 180383.689738292, 180383.689738292, 180383.689738292, 180383.689738292, 180383.689738292, 180383.689738292, 180383.689738292, 180383.689738292, 180383.689738292, 180383.689738292, 180383.689738292, 180383.689738292, 180383.689738292, 180383.689738292, 180383.689738292, 180383.689738292, 180383.689738292, 180383.689738292, 180383.689738292, 180383.689738292, 180383.689738292, 180383.689738292, 180383.689738292, 180383.689738292, 180383.689738292, 180383.689738292, 180383.689738292, 180383.689738292, 180383.689738292, 180383.689738292, 180383.689738292, 180383.689738292, 180383.689738292, 180383.689738292, 180383.689738292, 180383.689738292, 180383.689738292, 180383.689738292, 180383.689738292, 180383.689738292, 180383.689738292, 180383.689738292, 180383.689738292, 180383.689738292, 180383.689738292, 180383.689738292, 180383.689738292, 180383.689738292, 180383.689738292, 180383.689738292, 180383.689738292, 180383.689738292, 180383.689738292, 180383.689738292, 180383.689738292, 180383.689738292, 180383.689738292, 180383.689738292, 180383.689738292, 180383.689738292, 180383.689738292, 180383.689738292, 180383.689738292, 180383.689738292, 180383.689738292, 180383.689738292, 180383.689738292, 180383.689738292, 180383.689738292, 180383.689738292, 180383.689738292, 180383.689738292, 180383.689738292, 180383.689738292, 180383.689738292, 180383.689738292, 180383.689738292, 180383.689738292, 180383.689738292, 180383.689738292, 180383.689738292, 180383.689738292, 180383.689738292, 180383.689738292, 180383.689738292, 180383.689738292, 180383.689738292, 180383.689738292, 180383.689738292, 180383.689738292, 180383.689738292, 180383.689738292, 180383.689738292, 180383.689738292, 180383.689738292, 180383.689738292, 180383.689738292, 180383.689738292, 180383.689738292, 180383.689738292, 180383.689738292, 180383.689738292, 180383.689738292, 180383.689738292, 180383.689738292, 180383.689738292, 180383.689738292, 180383.689738292, 180383.689738292, 180383.689738292, 180383.689738292, 180383.689738292, 180383.689738292, 180383.689738292, 180383.689738292, 180383.689738292, 180383.689738292, 180383.689738292, 180383.689738292, 180383.689738292, 180383.689738292, 180383.689738292, 180383.689738292, 180383.689738292, 180383.689738292, 180383.689738292, 180383.689738292, 180383.689738292, 180383.689738292, 180383.689738292, 180383.689738292, 180383.689738292, 180383.689738292, 180383.689738292, 180383.689738292, 180383.689738292, 180383.689738292, 180383.689738292, 180383.689738292, 180383.689738292, 180383.689738292, 180383.689738292, 180383.689738292, 180383.689738292, 180383.689738292, 180383.689738292, 180383.689738292, 180383.689738292, 180383.689738292, 180383.689738292, 180383.689738292, 180383.689738292, 180383.689738292, 180383.689738292, 180383.689738292, 180383.689738292, 180383.689738292, 180383.689738292, 180383.689738292, 180383.689738292, 180383.689738292, 180383.689738292, 180383.689738292, 180383.689738292, 180383.689738292, 180383.689738292, 180383.689738292, 180383.689738292, 180383.689738292, 180383.689738292, 180383.689738292, 180383.689738292, 180383.689738292, 180383.689738292, 180383.689738292, 180383.689738292, 180383.689738292, 180383.689738292, 180383.689738292, 180383.689738292, 180383.689738292, 180383.689738292, 180383.689738292, 180383.689738292, 180383.689738292, 180383.689738292, 180383.689738292, 180383.689738292, 180383.689738292, 180383.689738292, 180383.689738292, 180383.689738292, 180383.689738292, 180383.689738292, 180383.689738292, 180383.689738292, 180383.689738292, 180383.689738292, 180383.689738292, 180383.689738292, 180383.689738292, 180383.689738292, 180383.689738292, 180383.689738292, 180383.689738292, 180383.689738292, 180383.689738292, 180383.689738292, 180383.689738292, 180383.689738292, 180383.689738292, 180383.689738292, 180383.689738292, 180383.689738292, 180383.689738292, 180383.689738292, 180383.689738292, 180383.689738292, 180383.689738292, 180383.689738292, 180383.689738292, 180383.689738292, 180383.689738292, 180383.689738292, 180383.689738292, 180383.689738292, 180383.689738292, 180383.689738292, 180383.689738292, 180383.689738292, 180383.689738292, 180383.689738292, 180383.689738292, 180383.689738292, 180383.689738292, 180383.689738292, 180383.689738292, 180383.689738292, 180383.689738292, 180383.689738292, 180383.689738292, 180383.689738292, 180383.689738292, 180383.689738292, 180383.689738292, 180383.689738292, 180383.689738292, 180383.689738292, 180383.689738292, 180383.689738292, 180383.689738292, 180383.689738292, 180383.689738292, 180383.689738292, 180383.689738292, 180383.689738292, 180383.689738292, 180383.689738292, 180383.689738292, 180383.689738292, 180383.689738292, 180383.689738292, 180383.689738292, 180383.689738292, 180383.689738292, 180383.689738292, 180383.689738292, 180383.689738292, 180383.689738292, 180383.689738292, 180383.689738292, 180383.689738292, 180383.689738292, 180383.689738292, 180383.689738292, 180383.689738292, 180383.689738292, 180383.689738292, 180383.689738292, 180383.689738292, 180383.689738292, 180383.689738292, 180383.689738292, 180383.689738292, 180383.689738292, 180383.689738292, 180383.689738292, 180383.689738292, 180383.689738292, 180383.689738292, 180383.689738292, 180383.689738292, 180383.689738292, 180383.689738292, 180383.689738292, 180383.689738292, 180383.689738292, 180383.689738292, 180383.689738292, 180383.689738292, 180383.689738292, 180383.689738292, 180383.689738292, 180383.689738292, 180383.689738292, 180383.689738292, 180383.689738292, 180383.689738292, 180383.689738292, 180383.689738292, 180383.689738292, 180383.689738292, 180383.689738292, 180383.689738292, 180383.689738292, 180383.689738292, 180383.689738292, 180383.689738292, 180383.689738292, 180383.689738292, 180383.689738292, 180383.689738292, 180383.689738292, 180383.689738292, 180383.689738292, 180383.689738292, 180383.689738292, 180383.689738292, 180383.689738292, 180383.689738292, 180383.689738292, 180383.689738292, 180383.689738292, 180383.689738292, 180383.689738292, 180383.689738292, 180383.689738292, 180383.689738292, 180383.689738292, 180383.689738292, 180383.689738292, 180383.689738292, 180383.689738292, 180383.689738292, 180383.689738292, 180383.689738292, 180383.689738292, 180383.689738292, 180383.689738292, 180383.689738292, 180383.689738292, 180383.689738292, 180383.689738292, 180383.689738292, 180383.689738292, 180383.689738292, 180383.689738292, 180383.689738292, 180383.689738292, 180383.689738292, 180383.689738292, 180383.689738292, 180383.689738292, 180383.689738292, 180383.689738292, 180383.689738292, 180383.689738292, 180383.689738292, 180383.689738292, 180383.689738292, 180383.689738292, 180383.689738292, 180383.689738292, 180383.689738292, 180383.689738292, 180383.689738292, 180383.689738292, 180383.689738292, 180383.689738292, 180383.689738292, 180383.689738292, 180383.689738292, 180383.689738292, 180383.689738292, 180383.689738292, 180383.689738292, 180383.689738292, 180383.689738292, 180383.689738292, 180383.689738292, 180383.689738292, 180383.689738292, 180383.689738292, 180383.689738292, 180383.689738292, 180383.689738292, 180383.689738292, 180383.689738292, 180383.689738292, 180383.689738292, 180383.689738292, 180383.689738292, 180383.689738292, 180383.689738292, 180383.689738292, 180383.689738292, 180383.689738292, 180383.689738292, 180383.689738292, 180383.689738292, 180383.689738292, 180383.689738292, 180383.689738292, 180383.689738292, 180383.689738292, 180383.689738292, 180383.689738292, 180383.689738292, 180383.689738292, 180383.689738292, 180383.689738292, 180383.689738292, 180383.689738292, 180383.689738292, 180383.689738292, 180383.689738292, 180383.689738292, 180383.689738292, 180383.689738292, 180383.689738292, 180383.689738292, 180383.689738292, 180383.689738292, 180383.689738292, 180383.689738292, 180383.689738292, 180383.689738292, 180383.689738292, 180383.689738292, 180383.689738292, 180383.689738292, 180383.689738292, 180383.689738292, 180383.689738292, 180383.689738292, 180383.689738292, 180383.689738292, 180383.689738292, 180383.689738292, 180383.689738292, 180383.689738292, 180383.689738292, 180383.689738292, 180383.689738292, 180383.689738292, 180383.689738292, 180383.689738292, 180383.689738292, 180383.689738292, 180383.689738292, 180383.689738292, 180383.689738292, 180383.689738292, 180383.689738292, 180383.689738292, 180383.689738292, 180383.689738292, 180383.689738292, 180383.689738292, 180383.689738292, 180383.689738292, 180383.689738292, 180383.689738292, 180383.689738292, 180383.689738292, 180383.689738292, 180383.689738292, 180383.689738292, 180383.689738292, 180383.689738292, 180383.689738292, 180383.689738292, 180383.689738292, 180383.689738292, 180383.689738292, 180383.689738292, 180383.689738292, 180383.689738292, 180383.689738292, 180383.689738292, 180383.689738292, 180383.689738292, 180383.689738292, 180383.689738292, 180383.689738292, 180383.689738292, 180383.689738292, 180383.689738292, 180383.689738292, 180383.689738292, 180383.689738292, 180383.689738292, 180383.689738292, 180383.689738292, 180383.689738292, 180383.689738292, 180383.689738292, 180383.689738292, 180383.689738292, 180383.689738292, 180383.689738292, 180383.689738292, 180383.689738292, 180383.689738292, 180383.689738292, 180383.689738292, 180383.689738292, 180383.689738292, 180383.689738292, 180383.689738292, 180383.689738292, 180383.689738292, 180383.689738292, 180383.689738292, 180383.689738292, 180383.689738292, 180383.689738292, 180383.689738292, 180383.689738292, 180383.689738292, 180383.689738292, 180383.689738292, 180383.689738292, 180383.689738292, 180383.689738292, 180383.689738292, 180383.689738292, 180383.689738292, 180383.689738292, 180383.689738292, 180383.689738292, 180383.689738292, 180383.689738292, 180383.689738292, 180383.689738292, 180383.689738292, 180383.689738292, 180383.689738292, 180383.689738292, 180383.689738292, 180383.689738292, 180383.689738292, 180383.689738292, 180383.689738292, 180383.689738292, 180383.689738292, 180383.689738292, 180383.689738292, 180383.689738292, 180383.689738292, 180383.689738292, 180383.689738292, 180383.689738292, 180383.689738292, 180383.689738292, 180383.689738292, 180383.689738292, 180383.689738292, 180383.689738292, 180383.689738292, 180383.689738292, 180383.689738292, 180383.689738292, 180383.689738292, 180383.689738292, 180383.689738292, 180383.689738292, 180383.689738292, 180383.689738292, 180383.689738292, 180383.689738292, 180383.689738292, 180383.689738292, 180383.689738292, 180383.689738292, 180383.689738292, 180383.689738292, 180383.689738292, 180383.689738292, 180383.689738292, 180383.689738292, 180383.689738292, 180383.689738292, 180383.689738292, 180383.689738292, 180383.689738292, 180383.689738292, 180383.689738292, 180383.689738292, 180383.689738292, 180383.689738292, 180383.689738292, 180383.689738292, 180383.689738292, 180383.689738292, 180383.689738292, 180383.689738292, 180383.689738292, 180383.689738292, 180383.689738292, 180383.689738292, 180383.689738292, 180383.689738292, 180383.689738292, 180383.689738292, 180383.689738292, 180383.689738292, 180383.689738292, 180383.689738292, 180383.689738292, 180383.689738292, 180383.689738292, 180383.689738292, 180383.689738292, 180383.689738292, 180383.689738292, 180383.689738292, 180383.689738292, 180383.689738292, 180383.689738292, 180383.689738292, 180383.689738292, 180383.689738292, 180383.689738292, 180383.689738292, 180383.689738292, 180383.689738292, 180383.689738292, 180383.689738292, 180383.689738292, 180383.689738292, 180383.689738292, 180383.689738292, 180383.689738292, 180383.689738292, 180383.689738292, 180383.689738292, 180383.689738292, 180383.689738292, 180383.689738292, 180383.689738292, 180383.689738292, 180383.689738292, 180383.689738292, 180383.689738292, 180383.689738292, 180383.689738292, 180383.689738292, 180383.689738292, 180383.689738292, 180383.689738292, 180383.689738292, 180383.689738292, 180383.689738292, 180383.689738292, 180383.689738292, 180383.689738292, 180383.689738292, 180383.689738292, 180383.689738292, 180383.689738292, 180383.689738292, 180383.689738292, 180383.689738292, 180383.689738292, 180383.689738292, 180383.689738292, 180383.689738292, 180383.689738292, 180383.689738292, 180383.689738292, 180383.689738292, 180383.689738292, 180383.689738292, 180383.689738292, 180383.689738292, 180383.689738292, 180383.689738292, 180383.689738292, 180383.689738292, 180383.689738292, 180383.689738292, 180383.689738292, 180383.689738292, 180383.689738292, 180383.689738292, 180383.689738292, 180383.689738292, 180383.689738292, 180383.689738292, 180383.689738292, 180383.689738292, 180383.689738292, 180383.689738292, 180383.689738292, 180383.689738292, 180383.689738292, 180383.689738292, 180383.689738292, 180383.689738292, 180383.689738292, 180383.689738292, 180383.689738292, 180383.689738292, 180383.689738292, 180383.689738292, 180383.689738292, 180383.689738292, 180383.689738292, 180383.689738292, 180383.689738292, 180383.689738292, 180383.689738292, 180383.689738292, 180383.689738292, 180383.689738292, 180383.689738292, 180383.689738292, 180383.689738292, 180383.689738292, 180383.689738292, 180383.689738292, 180383.689738292, 180383.689738292, 180383.689738292, 180383.689738292, 180383.689738292, 180383.689738292, 180383.689738292, 180383.689738292, 180383.689738292, 180383.689738292, 180383.689738292, 180383.689738292, 180383.689738292, 180383.689738292, 180383.689738292, 180383.689738292, 180383.689738292, 180383.689738292, 180383.689738292, 180383.689738292, 180383.689738292, 180383.689738292, 180383.689738292, 180383.689738292, 180383.689738292, 180383.689738292, 180383.689738292, 180383.689738292, 180383.689738292, 180383.689738292, 180383.689738292, 180383.689738292, 180383.689738292, 180383.689738292, 180383.689738292, 180383.689738292, 180383.689738292, 180383.689738292, 180383.689738292, 180383.689738292, 180383.689738292, 180383.689738292, 180383.689738292, 180383.689738292, 180383.689738292, 180383.689738292, 180383.689738292, 180383.689738292, 180383.689738292, 180383.689738292, 180383.689738292, 180383.689738292, 180383.689738292, 180383.689738292, 180383.689738292, 180383.689738292, 180383.689738292, 180383.689738292, 180383.689738292, 180383.689738292, 180383.689738292, 180383.689738292, 180383.689738292, 180383.689738292, 180383.689738292, 180383.689738292, 180383.689738292, 180383.689738292, 180383.689738292, 180383.689738292, 180383.689738292, 180383.689738292, 180383.689738292, 180383.689738292, 180383.689738292, 180383.689738292, 180383.689738292, 180383.689738292, 180383.689738292, 180383.689738292, 180383.689738292, 180383.689738292, 180383.689738292, 180383.689738292, 180383.689738292, 180383.689738292, 180383.689738292, 180383.689738292, 180383.689738292, 180383.689738292, 180383.689738292, 180383.689738292, 180383.689738292, 180383.689738292, 180383.689738292, 180383.689738292, 180383.689738292, 180383.689738292, 180383.689738292, 180383.689738292, 180383.689738292, 180383.689738292, 180383.689738292, 180383.689738292, 180383.689738292, 180383.689738292, 180383.689738292, 180383.689738292, 180383.689738292, 180383.689738292, 180383.689738292, 180383.689738292, 180383.689738292, 180383.689738292, 180383.689738292, 180383.689738292, 180383.689738292, 180383.689738292, 180383.689738292, 180383.689738292, 180383.689738292, 180383.689738292, 180383.689738292, 180383.689738292, 180383.689738292, 180383.689738292, 180383.689738292, 180383.689738292, 180383.689738292, 180383.689738292, 180383.689738292, 180383.689738292, 180383.689738292, 180383.689738292, 180383.689738292, 180383.689738292, 180383.689738292, 180383.689738292, 180383.689738292, 180383.689738292, 180383.689738292, 180383.689738292, 180383.689738292, 180383.689738292, 180383.689738292, 180383.689738292, 180383.689738292, 180383.689738292, 180383.689738292, 180383.689738292, 180383.689738292, 180383.689738292, 180383.689738292, 180383.689738292, 180383.689738292, 180383.689738292, 180383.689738292, 180383.689738292, 180383.689738292, 180383.689738292, 180383.689738292, 180383.689738292, 180383.689738292, 180383.689738292, 180383.689738292, 180383.689738292, 180383.689738292, 180383.689738292, 180383.689738292, 180383.689738292, 180383.689738292, 180383.689738292, 180383.689738292, 180383.689738292, 180383.689738292, 180383.689738292, 180383.689738292, 180383.689738292, 180383.689738292, 180383.689738292, 180383.689738292, 180383.689738292, 180383.689738292, 180383.689738292, 180383.689738292, 180383.689738292, 180383.689738292, 180383.689738292, 180383.689738292, 180383.689738292, 180383.689738292, 180383.689738292, 180383.689738292, 180383.689738292, 180383.689738292, 180383.689738292, 180383.689738292, 180383.689738292, 180383.689738292, 180383.689738292, 180383.689738292, 180383.689738292, 180383.689738292, 180383.689738292, 180383.689738292, 180383.689738292, 180383.689738292, 180383.689738292, 180383.689738292, 180383.689738292, 180383.689738292, 180383.689738292, 180383.689738292, 180383.689738292, 180383.689738292, 180383.689738292, 180383.689738292, 180383.689738292, 180383.689738292, 180383.689738292, 180383.689738292, 180383.689738292, 180383.689738292, 180383.689738292, 180383.689738292, 180383.689738292, 180383.689738292, 180383.689738292, 180383.689738292, 180383.689738292, 180383.689738292, 180383.689738292, 180383.689738292, 180383.689738292, 180383.689738292, 180383.689738292, 180383.689738292, 180383.689738292, 180383.689738292, 180383.689738292, 180383.689738292, 180383.689738292, 180383.689738292, 180383.689738292, 180383.689738292, 180383.689738292, 180383.689738292, 180383.689738292, 180383.689738292, 180383.689738292, 180383.689738292, 180383.689738292, 180383.689738292, 180383.689738292, 180383.689738292, 180383.689738292, 180383.689738292, 180383.689738292, 180383.689738292, 180383.689738292, 180383.689738292, 180383.689738292, 180383.689738292, 180383.689738292, 180383.689738292, 180383.689738292, 180383.689738292, 180383.689738292, 180383.689738292, 180383.689738292, 180383.689738292, 180383.689738292, 180383.689738292, 180383.689738292, 180383.689738292, 180383.689738292, 180383.689738292, 180383.689738292, 180383.689738292, 180383.689738292, 180383.689738292, 180383.689738292, 180383.689738292, 180383.689738292, 180383.689738292, 180383.689738292, 180383.689738292, 180383.689738292, 180383.689738292, 180383.689738292, 180383.689738292, 180383.689738292, 180383.689738292, 180383.689738292, 180383.689738292, 180383.689738292, 180383.689738292, 180383.689738292, 180383.689738292, 180383.689738292, 180383.689738292, 180383.689738292, 180383.689738292, 180383.689738292, 180383.689738292, 180383.689738292, 180383.689738292, 180383.689738292, 180383.689738292, 180383.689738292, 180383.689738292, 180383.689738292, 180383.689738292, 180383.689738292, 180383.689738292, 180383.689738292, 180383.689738292, 180383.689738292, 180383.689738292, 180383.689738292, 180383.689738292, 180383.689738292, 180383.689738292, 180383.689738292, 180383.689738292, 180383.689738292, 180383.689738292, 180383.689738292, 180383.689738292, 180383.689738292, 180383.689738292, 180383.689738292, 180383.689738292, 180383.689738292, 180383.689738292, 180383.689738292, 180383.689738292, 180383.689738292, 180383.689738292, 180383.689738292, 180383.689738292, 180383.689738292, 180383.689738292, 180383.689738292, 180383.689738292, 180383.689738292, 180383.689738292, 180383.689738292, 180383.689738292, 180383.689738292, 180383.689738292, 180383.689738292, 180383.689738292, 180383.689738292, 180383.689738292, 180383.689738292, 180383.689738292, 180383.689738292, 180383.689738292, 180383.689738292, 180383.689738292, 180383.689738292, 180383.689738292, 180383.689738292, 180383.689738292, 180383.689738292, 180383.689738292, 180383.689738292, 180383.689738292, 180383.689738292, 180383.689738292, 180383.689738292, 180383.689738292, 180383.689738292, 180383.689738292, 180383.689738292, 180383.689738292, 180383.689738292, 180383.689738292, 180383.689738292, 180383.689738292, 180383.689738292, 180383.689738292, 180383.689738292, 180383.689738292, 180383.689738292, 180383.689738292, 180383.689738292, 180383.689738292, 180383.689738292, 180383.689738292, 180383.689738292, 180383.689738292, 180383.689738292, 180383.689738292, 180383.689738292, 180383.689738292, 180383.689738292, 180383.689738292, 180383.689738292, 180383.689738292, 180383.689738292, 180383.689738292, 180383.689738292, 180383.689738292, 180383.689738292, 180383.689738292, 180383.689738292, 180383.689738292, 180383.689738292, 180383.689738292, 180383.689738292, 180383.689738292, 180383.689738292, 180383.689738292, 180383.689738292, 180383.689738292, 180383.689738292, 180383.689738292, 180383.689738292, 180383.689738292, 180383.689738292, 180383.689738292, 180383.689738292, 180383.689738292, 180383.689738292, 180383.689738292, 180383.689738292, 180383.689738292, 180383.689738292, 180383.689738292, 180383.689738292, 180383.689738292, 180383.689738292, 180383.689738292, 180383.689738292, 180383.689738292, 180383.689738292, 180383.689738292, 180383.689738292, 180383.689738292, 180383.689738292, 180383.689738292, 180383.689738292, 180383.689738292, 180383.689738292, 180383.689738292, 180383.689738292, 180383.689738292, 180383.689738292, 180383.689738292, 180383.689738292, 180383.689738292, 180383.689738292, 180383.689738292, 180383.689738292, 180383.689738292, 180383.689738292, 180383.689738292, 180383.689738292, 180383.689738292, 180383.689738292, 180383.689738292, 180383.689738292, 180383.689738292, 180383.689738292, 180383.689738292, 180383.689738292, 180383.689738292, 180383.689738292, 180383.689738292, 180383.689738292, 180383.689738292, 180383.689738292, 180383.689738292, 180383.689738292, 180383.689738292, 180383.689738292, 180383.689738292, 180383.689738292, 180383.689738292, 180383.689738292, 180383.689738292, 180383.689738292, 180383.689738292, 180383.689738292, 180383.689738292, 180383.689738292, 180383.689738292, 180383.689738292, 180383.689738292, 180383.689738292, 180383.689738292, 180383.689738292, 180383.689738292, 180383.689738292, 180383.689738292, 180383.689738292, 180383.689738292, 180383.689738292, 180383.689738292, 180383.689738292, 180383.689738292, 180383.689738292, 180383.689738292, 180383.689738292, 180383.689738292, 180383.689738292, 180383.689738292, 180383.689738292, 180383.689738292, 180383.689738292, 180383.689738292, 180383.689738292, 180383.689738292, 180383.689738292, 180383.689738292, 180383.689738292, 180383.689738292, 180383.689738292, 180383.689738292, 180383.689738292, 180383.689738292, 180383.689738292, 180383.689738292, 180383.689738292, 180383.689738292, 180383.689738292, 180383.689738292, 180383.689738292, 180383.689738292, 180383.689738292, 180383.689738292, 180383.689738292, 180383.689738292, 180383.689738292, 180383.689738292, 180383.689738292, 180383.689738292, 180383.689738292, 180383.689738292, 180383.689738292, 180383.689738292, 180383.689738292, 180383.689738292, 180383.689738292, 180383.689738292, 180383.689738292, 180383.689738292, 180383.689738292, 180383.689738292, 180383.689738292, 180383.689738292, 180383.689738292, 180383.689738292, 180383.689738292, 180383.689738292, 180383.689738292, 180383.689738292, 180383.689738292, 180383.689738292, 180383.689738292, 180383.689738292, 180383.689738292, 180383.689738292, 180383.689738292, 180383.689738292, 180383.689738292, 180383.689738292, 180383.689738292, 180383.689738292, 180383.689738292, 180383.689738292, 180383.689738292, 180383.689738292, 180383.689738292, 180383.689738292, 180383.689738292, 180383.689738292, 180383.689738292, 180383.689738292, 180383.689738292, 180383.689738292, 180383.689738292, 180383.689738292, 180383.689738292, 180383.689738292, 180383.689738292, 180383.689738292, 180383.689738292, 180383.689738292, 180383.689738292, 180383.689738292, 180383.689738292, 180383.689738292, 180383.689738292, 180383.689738292, 180383.689738292, 180383.689738292, 180383.689738292, 180383.689738292, 180383.689738292, 180383.689738292, 180383.689738292, 180383.689738292, 180383.689738292, 180383.689738292, 180383.689738292, 180383.689738292, 180383.689738292, 180383.689738292, 180383.689738292, 180383.689738292, 180383.689738292, 180383.689738292, 180383.689738292, 180383.689738292, 180383.689738292, 180383.689738292, 180383.689738292, 180383.689738292, 180383.689738292, 180383.689738292, 180383.689738292, 180383.689738292, 180383.689738292, 180383.689738292, 180383.689738292, 180383.689738292, 180383.689738292, 180383.689738292, 180383.689738292, 180383.689738292, 180383.689738292, 180383.689738292, 180383.689738292, 180383.689738292, 180383.689738292, 180383.689738292, 180383.689738292, 180383.689738292, 180383.689738292, 180383.689738292, 180383.689738292, 180383.689738292, 180383.689738292, 180383.689738292, 180383.689738292, 180383.689738292, 180383.689738292, 180383.689738292, 180383.689738292, 180383.689738292, 180383.689738292, 180383.689738292, 180383.689738292, 180383.689738292, 180383.689738292, 180383.689738292, 180383.689738292, 180383.689738292, 180383.689738292, 180383.689738292, 180383.689738292, 180383.689738292, 180383.689738292, 180383.689738292, 180383.689738292, 180383.689738292, 180383.689738292, 180383.689738292, 180383.689738292, 180383.689738292, 180383.689738292, 180383.689738292, 180383.689738292, 180383.689738292, 180383.689738292, 180383.689738292, 180383.689738292, 180383.689738292, 180383.689738292, 180383.689738292, 180383.689738292, 180383.689738292, 180383.689738292, 180383.689738292, 180383.689738292, 180383.689738292, 180383.689738292, 180383.689738292, 180383.689738292, 180383.689738292, 180383.689738292, 180383.689738292, 180383.689738292, 180383.689738292, 180383.689738292, 180383.689738292, 180383.689738292, 180383.689738292, 180383.689738292, 180383.689738292, 180383.689738292, 180383.689738292, 180383.689738292, 180383.689738292, 180383.689738292, 180383.689738292, 180383.689738292, 180383.689738292, 180383.689738292, 180383.689738292, 180383.689738292, 180383.689738292, 180383.689738292, 180383.689738292, 180383.689738292, 180383.689738292, 180383.689738292, 180383.689738292, 180383.689738292, 180383.689738292, 180383.689738292, 180383.689738292, 180383.689738292, 180383.689738292, 180383.689738292, 180383.689738292, 180383.689738292, 180383.689738292, 180383.689738292, 180383.689738292, 180383.689738292, 180383.689738292, 180383.689738292, 180383.689738292, 180383.689738292, 180383.689738292, 180383.689738292, 180383.689738292, 180383.689738292, 180383.689738292, 180383.689738292, 180383.689738292, 180383.689738292, 180383.689738292, 180383.689738292, 180383.689738292, 180383.689738292, 180383.689738292, 180383.689738292, 180383.689738292, 180383.689738292, 180383.689738292, 180383.689738292, 180383.689738292, 180383.689738292, 180383.689738292, 180383.689738292, 180383.689738292, 180383.689738292, 180383.689738292, 180383.689738292, 180383.689738292, 180383.689738292, 180383.689738292, 180383.689738292, 180383.689738292, 180383.689738292, 180383.689738292, 180383.689738292, 180383.689738292, 180383.689738292, 180383.689738292, 180383.689738292, 180383.689738292, 180383.689738292, 180383.689738292, 180383.689738292, 180383.689738292, 180383.689738292, 180383.689738292, 180383.689738292, 180383.689738292, 180383.689738292, 180383.689738292, 180383.689738292, 180383.689738292, 180383.689738292, 180383.689738292, 180383.689738292, 180383.689738292, 180383.689738292, 180383.689738292, 180383.689738292, 180383.689738292, 180383.689738292]\n",
            "Base MAE: 58149.92774120811 Base R2: 0.0\n"
          ],
          "name": "stdout"
        }
      ]
    },
    {
      "cell_type": "markdown",
      "metadata": {
        "colab_type": "text",
        "id": "yqeiq1wvyrTq"
      },
      "source": [
        "## 2.2. Do train/validate/test split\n",
        "\n",
        "Train on houses sold in the years 2006 - 2008. (1,920 rows)\n",
        "\n",
        "Validate on house sold in 2009. (644 rows)\n",
        "\n",
        "Test on houses sold in 2010. (340 rows)"
      ]
    },
    {
      "cell_type": "code",
      "metadata": {
        "colab_type": "code",
        "id": "WKFjWLI3w0P_",
        "colab": {
          "base_uri": "https://localhost:8080/",
          "height": 901
        },
        "outputId": "960479d1-246e-48bd-923e-131792a39374"
      },
      "source": [
        "#convert yr sold to datetime and create train, validation, and test set\n",
        "homes['Yr_Sold'] = pd.to_datetime(homes['Yr_Sold'],format='%Y')\n",
        "\n",
        "train = homes[homes['Yr_Sold'] < '2009'] \n",
        "val = homes[homes['Yr_Sold'] == '2009']\n",
        "test = homes[homes['Yr_Sold'] == '2010']\n",
        "print(test,val,train)"
      ],
      "execution_count": 46,
      "outputs": [
        {
          "output_type": "stream",
          "text": [
            "0      2010-01-01\n",
            "1      2010-01-01\n",
            "2      2010-01-01\n",
            "3      2010-01-01\n",
            "4      2010-01-01\n",
            "          ...    \n",
            "2899   2006-01-01\n",
            "2900   2006-01-01\n",
            "2901   2006-01-01\n",
            "2902   2006-01-01\n",
            "2903   2006-01-01\n",
            "Name: Yr_Sold, Length: 2904, dtype: datetime64[ns]\n",
            "     1st_Flr_SF  Bedroom_AbvGr Bldg_Type  ...  Year_Built  Year_Remod/Add    Yr_Sold\n",
            "0          1656              3      1Fam  ...        1960            1960 2010-01-01\n",
            "1           896              2      1Fam  ...        1961            1961 2010-01-01\n",
            "2          1329              3      1Fam  ...        1958            1958 2010-01-01\n",
            "3          2110              3      1Fam  ...        1968            1968 2010-01-01\n",
            "4           928              3      1Fam  ...        1997            1998 2010-01-01\n",
            "..          ...            ...       ...  ...         ...             ...        ...\n",
            "335        1216              4    Duplex  ...        1985            1986 2010-01-01\n",
            "336         624              3      1Fam  ...        1991            1991 2010-01-01\n",
            "337         864              5      1Fam  ...        1969            1969 2010-01-01\n",
            "338        1803              3      1Fam  ...        1994            1995 2010-01-01\n",
            "339        1152              3      1Fam  ...        1993            1994 2010-01-01\n",
            "\n",
            "[340 rows x 47 columns]      1st_Flr_SF  Bedroom_AbvGr Bldg_Type  ...  Year_Built  Year_Remod/Add    Yr_Sold\n",
            "340         882              2      1Fam  ...        1956            1956 2009-01-01\n",
            "341        1434              4      1Fam  ...        1974            1974 2009-01-01\n",
            "342        2000              4      1Fam  ...        1972            1995 2009-01-01\n",
            "343         945              3      1Fam  ...        1997            1997 2009-01-01\n",
            "344        1008              4      1Fam  ...        2003            2003 2009-01-01\n",
            "..          ...            ...       ...  ...         ...             ...        ...\n",
            "979         883              2      1Fam  ...        1992            1993 2009-01-01\n",
            "980         796              1      1Fam  ...        1993            1995 2009-01-01\n",
            "981         624              3      1Fam  ...        1992            1992 2009-01-01\n",
            "982        1567              2      1Fam  ...        1977            1977 2009-01-01\n",
            "983         784              4      1Fam  ...        1969            1969 2009-01-01\n",
            "\n",
            "[644 rows x 47 columns]       1st_Flr_SF  Bedroom_AbvGr  ... Year_Remod/Add    Yr_Sold\n",
            "984         1414              3  ...           2002 2008-01-01\n",
            "985         2117              4  ...           1970 2008-01-01\n",
            "986         1092              4  ...           1969 2008-01-01\n",
            "987          926              3  ...           1998 2008-01-01\n",
            "988          680              3  ...           1996 2008-01-01\n",
            "...          ...            ...  ...            ...        ...\n",
            "2899        1003              3  ...           1984 2006-01-01\n",
            "2900         902              2  ...           1983 2006-01-01\n",
            "2901         970              3  ...           1992 2006-01-01\n",
            "2902        1389              2  ...           1975 2006-01-01\n",
            "2903         996              3  ...           1994 2006-01-01\n",
            "\n",
            "[1920 rows x 47 columns]\n"
          ],
          "name": "stdout"
        }
      ]
    },
    {
      "cell_type": "markdown",
      "metadata": {
        "colab_type": "text",
        "id": "hk1bYDJy6txq"
      },
      "source": [
        "## 2.3. Arrange data into X features matrix and y target vector\n",
        "\n",
        "Select at least one numeric feature and at least one categorical feature.\n",
        "\n",
        "Otherwise, you may choose whichever features and however many you want."
      ]
    },
    {
      "cell_type": "code",
      "metadata": {
        "colab_type": "code",
        "id": "JQf9iwzf_uWh",
        "colab": {}
      },
      "source": [
        "#create target and feature sets\n",
        "target = 'SalePrice'\n",
        "features = ['1st_Flr_SF', 'Kitchen_Qual']\n",
        "\n",
        "X_train = train[features]\n",
        "y_train = train[target]\n",
        "\n",
        "X_val = val[features]\n",
        "y_val = val[target]\n",
        "\n",
        "X_test = test[features]\n",
        "y_test = test[target]"
      ],
      "execution_count": 0,
      "outputs": []
    },
    {
      "cell_type": "markdown",
      "metadata": {
        "colab_type": "text",
        "id": "zDT-gSl_-Gwh"
      },
      "source": [
        "## 2.4. Do one-hot encoding\n",
        "\n",
        "Encode your categorical feature(s)."
      ]
    },
    {
      "cell_type": "code",
      "metadata": {
        "colab_type": "code",
        "id": "iqRywy6M7Jcr",
        "colab": {
          "base_uri": "https://localhost:8080/",
          "height": 255
        },
        "outputId": "3f87dced-c14a-4a01-a7a2-ddc8f1df9984"
      },
      "source": [
        "#check for nulls and one hot encode categorical values\n",
        "homes.isnull().sum()\n",
        "import category_encoders as ce\n",
        "cat = ['Kitchen_Qual']\n",
        "encoder = ce.OneHotEncoder(use_cat_names=True)\n",
        "X_train_encode = encoder.fit_transform(X_train)\n",
        "print(X_train_encode)"
      ],
      "execution_count": 56,
      "outputs": [
        {
          "output_type": "stream",
          "text": [
            "      1st_Flr_SF  Kitchen_Qual_TA  ...  Kitchen_Qual_Ex  Kitchen_Qual_Fa\n",
            "984         1414                1  ...                0                0\n",
            "985         2117                1  ...                0                0\n",
            "986         1092                1  ...                0                0\n",
            "987          926                1  ...                0                0\n",
            "988          680                1  ...                0                0\n",
            "...          ...              ...  ...              ...              ...\n",
            "2899        1003                1  ...                0                0\n",
            "2900         902                1  ...                0                0\n",
            "2901         970                1  ...                0                0\n",
            "2902        1389                1  ...                0                0\n",
            "2903         996                1  ...                0                0\n",
            "\n",
            "[1920 rows x 5 columns]\n"
          ],
          "name": "stdout"
        }
      ]
    },
    {
      "cell_type": "markdown",
      "metadata": {
        "colab_type": "text",
        "id": "2ZceruUx-Vs-"
      },
      "source": [
        "## 2.5. Use scikit-learn to fit a linear regression or ridge regression model\n",
        "Fit your model."
      ]
    },
    {
      "cell_type": "code",
      "metadata": {
        "colab_type": "code",
        "id": "Kvy4Z0xv7eJF",
        "colab": {
          "base_uri": "https://localhost:8080/",
          "height": 51
        },
        "outputId": "459c8379-66cc-4089-dfae-edc5b0ac6d72"
      },
      "source": [
        "#fit model with ridge regression\n",
        "from sklearn.linear_model import Ridge\n",
        "ridge = Ridge(alpha=1, normalize=True)\n",
        "ridge.fit(X_train_encode, y_train)\n",
        "\n",
        "ridge.coef_"
      ],
      "execution_count": 57,
      "outputs": [
        {
          "output_type": "execute_result",
          "data": {
            "text/plain": [
              "array([ 4.86051938e+01, -2.76434750e+04,  1.54838501e+04,  6.36065004e+04,\n",
              "       -3.23748778e+04])"
            ]
          },
          "metadata": {
            "tags": []
          },
          "execution_count": 57
        }
      ]
    },
    {
      "cell_type": "markdown",
      "metadata": {
        "colab_type": "text",
        "id": "E9reASgw-i8T"
      },
      "source": [
        "## 2.6. Report validation MAE and $R^2$\n",
        "\n",
        "What is your model's Mean Absolute Error and $R^2$ score on the validation set? (You are not graded on how high or low your validation scores are.)"
      ]
    },
    {
      "cell_type": "code",
      "metadata": {
        "colab_type": "code",
        "id": "q8GdnL4e7hyK",
        "colab": {
          "base_uri": "https://localhost:8080/",
          "height": 34
        },
        "outputId": "c519be55-eee3-4e48-c0d0-d18829cd21f1"
      },
      "source": [
        "#obtain prediction values for the validation set and return accuracy scores\n",
        "X_val_encode = encoder.fit_transform(X_val)\n",
        "y_val_pred = ridge.predict(X_val_encode)\n",
        "\n",
        "val_mae = mean_absolute_error(y_val,y_val_pred)\n",
        "val_r2 = r2_score(y_val,y_val_pred)\n",
        "\n",
        "print('Val MAE:',val_mae,'Val R2:',val_r2)"
      ],
      "execution_count": 59,
      "outputs": [
        {
          "output_type": "stream",
          "text": [
            "Val MAE: 48451.39699380457 Val R2: 0.316129636892297\n"
          ],
          "name": "stdout"
        }
      ]
    },
    {
      "cell_type": "markdown",
      "metadata": {
        "colab_type": "text",
        "id": "DidByDsrOa-o"
      },
      "source": [
        "# Stretch Goals, Regression\n",
        "- Make at least 2 visualizations to explore relationships between features and target. You may use any visualization library\n",
        "- Try at least 3 feature combinations. You may select features manually, or automatically\n",
        "- Report validation MAE and $R^2$ for each feature combination you try\n",
        "- Report test MAE and $R^2$ for your final model\n",
        "- Print or plot the coefficients for the features in your model"
      ]
    },
    {
      "cell_type": "code",
      "metadata": {
        "colab_type": "code",
        "id": "xOfSQIf3Y3OV",
        "colab": {}
      },
      "source": [
        ""
      ],
      "execution_count": 0,
      "outputs": []
    },
    {
      "cell_type": "markdown",
      "metadata": {
        "colab_type": "text",
        "id": "PdkjBN1Dy_-A"
      },
      "source": [
        "# Data Dictionary \n",
        "\n",
        "Here's a description of the data fields:\n",
        "\n",
        "```\n",
        "1st_Flr_SF: First Floor square feet\n",
        "\n",
        "Bedroom_AbvGr: Bedrooms above grade (does NOT include basement bedrooms)\n",
        "\n",
        "Bldg_Type: Type of dwelling\n",
        "\t\t\n",
        "       1Fam\tSingle-family Detached\t\n",
        "       2FmCon\tTwo-family Conversion; originally built as one-family dwelling\n",
        "       Duplx\tDuplex\n",
        "       TwnhsE\tTownhouse End Unit\n",
        "       TwnhsI\tTownhouse Inside Unit\n",
        "       \n",
        "Bsmt_Half_Bath: Basement half bathrooms\n",
        "\n",
        "Bsmt_Full_Bath: Basement full bathrooms\n",
        "\n",
        "Central_Air: Central air conditioning\n",
        "\n",
        "       N\tNo\n",
        "       Y\tYes\n",
        "\t\t\n",
        "Condition_1: Proximity to various conditions\n",
        "\t\n",
        "       Artery\tAdjacent to arterial street\n",
        "       Feedr\tAdjacent to feeder street\t\n",
        "       Norm\tNormal\t\n",
        "       RRNn\tWithin 200' of North-South Railroad\n",
        "       RRAn\tAdjacent to North-South Railroad\n",
        "       PosN\tNear positive off-site feature--park, greenbelt, etc.\n",
        "       PosA\tAdjacent to postive off-site feature\n",
        "       RRNe\tWithin 200' of East-West Railroad\n",
        "       RRAe\tAdjacent to East-West Railroad\n",
        "\t\n",
        "Condition_2: Proximity to various conditions (if more than one is present)\n",
        "\t\t\n",
        "       Artery\tAdjacent to arterial street\n",
        "       Feedr\tAdjacent to feeder street\t\n",
        "       Norm\tNormal\t\n",
        "       RRNn\tWithin 200' of North-South Railroad\n",
        "       RRAn\tAdjacent to North-South Railroad\n",
        "       PosN\tNear positive off-site feature--park, greenbelt, etc.\n",
        "       PosA\tAdjacent to postive off-site feature\n",
        "       RRNe\tWithin 200' of East-West Railroad\n",
        "       RRAe\tAdjacent to East-West Railroad\n",
        "       \n",
        " Electrical: Electrical system\n",
        "\n",
        "       SBrkr\tStandard Circuit Breakers & Romex\n",
        "       FuseA\tFuse Box over 60 AMP and all Romex wiring (Average)\t\n",
        "       FuseF\t60 AMP Fuse Box and mostly Romex wiring (Fair)\n",
        "       FuseP\t60 AMP Fuse Box and mostly knob & tube wiring (poor)\n",
        "       Mix\tMixed\n",
        "       \n",
        " Exter_Cond: Evaluates the present condition of the material on the exterior\n",
        "\t\t\n",
        "       Ex\tExcellent\n",
        "       Gd\tGood\n",
        "       TA\tAverage/Typical\n",
        "       Fa\tFair\n",
        "       Po\tPoor\n",
        " \n",
        " Exter_Qual: Evaluates the quality of the material on the exterior \n",
        "\t\t\n",
        "       Ex\tExcellent\n",
        "       Gd\tGood\n",
        "       TA\tAverage/Typical\n",
        "       Fa\tFair\n",
        "       Po\tPoor\n",
        "\t\t\n",
        "Exterior_1st: Exterior covering on house\n",
        "\n",
        "       AsbShng\tAsbestos Shingles\n",
        "       AsphShn\tAsphalt Shingles\n",
        "       BrkComm\tBrick Common\n",
        "       BrkFace\tBrick Face\n",
        "       CBlock\tCinder Block\n",
        "       CemntBd\tCement Board\n",
        "       HdBoard\tHard Board\n",
        "       ImStucc\tImitation Stucco\n",
        "       MetalSd\tMetal Siding\n",
        "       Other\tOther\n",
        "       Plywood\tPlywood\n",
        "       PreCast\tPreCast\t\n",
        "       Stone\tStone\n",
        "       Stucco\tStucco\n",
        "       VinylSd\tVinyl Siding\n",
        "       Wd Sdng\tWood Siding\n",
        "       WdShing\tWood Shingles\n",
        "\t\n",
        "Exterior_2nd: Exterior covering on house (if more than one material)\n",
        "\n",
        "       AsbShng\tAsbestos Shingles\n",
        "       AsphShn\tAsphalt Shingles\n",
        "       BrkComm\tBrick Common\n",
        "       BrkFace\tBrick Face\n",
        "       CBlock\tCinder Block\n",
        "       CemntBd\tCement Board\n",
        "       HdBoard\tHard Board\n",
        "       ImStucc\tImitation Stucco\n",
        "       MetalSd\tMetal Siding\n",
        "       Other\tOther\n",
        "       Plywood\tPlywood\n",
        "       PreCast\tPreCast\n",
        "       Stone\tStone\n",
        "       Stucco\tStucco\n",
        "       VinylSd\tVinyl Siding\n",
        "       Wd Sdng\tWood Siding\n",
        "       WdShing\tWood Shingles\n",
        "       \n",
        "Foundation: Type of foundation\n",
        "\t\t\n",
        "       BrkTil\tBrick & Tile\n",
        "       CBlock\tCinder Block\n",
        "       PConc\tPoured Contrete\t\n",
        "       Slab\tSlab\n",
        "       Stone\tStone\n",
        "       Wood\tWood\n",
        "\t\t\n",
        "Full_Bath: Full bathrooms above grade\n",
        "\n",
        "Functional: Home functionality (Assume typical unless deductions are warranted)\n",
        "\n",
        "       Typ\tTypical Functionality\n",
        "       Min1\tMinor Deductions 1\n",
        "       Min2\tMinor Deductions 2\n",
        "       Mod\tModerate Deductions\n",
        "       Maj1\tMajor Deductions 1\n",
        "       Maj2\tMajor Deductions 2\n",
        "       Sev\tSeverely Damaged\n",
        "       Sal\tSalvage only\n",
        "\t\t\n",
        "Gr_Liv_Area: Above grade (ground) living area square feet\n",
        "        \n",
        "Half_Bath: Half baths above grade\n",
        "\n",
        "Heating: Type of heating\n",
        "\t\t\n",
        "       Floor\tFloor Furnace\n",
        "       GasA\tGas forced warm air furnace\n",
        "       GasW\tGas hot water or steam heat\n",
        "       Grav\tGravity furnace\t\n",
        "       OthW\tHot water or steam heat other than gas\n",
        "       Wall\tWall furnace\n",
        "\t\t\n",
        "Heating_QC: Heating quality and condition\n",
        "\n",
        "       Ex\tExcellent\n",
        "       Gd\tGood\n",
        "       TA\tAverage/Typical\n",
        "       Fa\tFair\n",
        "       Po\tPoor\n",
        "\n",
        "House_Style: Style of dwelling\n",
        "\t\n",
        "       1Story\tOne story\n",
        "       1.5Fin\tOne and one-half story: 2nd level finished\n",
        "       1.5Unf\tOne and one-half story: 2nd level unfinished\n",
        "       2Story\tTwo story\n",
        "       2.5Fin\tTwo and one-half story: 2nd level finished\n",
        "       2.5Unf\tTwo and one-half story: 2nd level unfinished\n",
        "       SFoyer\tSplit Foyer\n",
        "       SLvl\tSplit Level\n",
        "\n",
        "Kitchen_AbvGr: Kitchens above grade\n",
        "\n",
        "Kitchen_Qual: Kitchen quality\n",
        "\n",
        "       Ex\tExcellent\n",
        "       Gd\tGood\n",
        "       TA\tTypical/Average\n",
        "       Fa\tFair\n",
        "       Po\tPoor\n",
        "\n",
        "LandContour: Flatness of the property\n",
        "\n",
        "       Lvl\tNear Flat/Level\t\n",
        "       Bnk\tBanked - Quick and significant rise from street grade to building\n",
        "       HLS\tHillside - Significant slope from side to side\n",
        "       Low\tDepression\n",
        "\t\t\n",
        "Land_Slope: Slope of property\n",
        "\t\t\n",
        "       Gtl\tGentle slope\n",
        "       Mod\tModerate Slope\t\n",
        "       Sev\tSevere Slope\n",
        "\n",
        "Lot_Area: Lot size in square feet\n",
        "\n",
        "Lot_Config: Lot configuration\n",
        "\n",
        "       Inside\tInside lot\n",
        "       Corner\tCorner lot\n",
        "       CulDSac\tCul-de-sac\n",
        "       FR2\tFrontage on 2 sides of property\n",
        "       FR3\tFrontage on 3 sides of property\n",
        "\n",
        "Lot_Shape: General shape of property\n",
        "\n",
        "       Reg\tRegular\t\n",
        "       IR1\tSlightly irregular\n",
        "       IR2\tModerately Irregular\n",
        "       IR3\tIrregular\n",
        "\n",
        "MS_SubClass: Identifies the type of dwelling involved in the sale.\t\n",
        "\n",
        "        20\t1-STORY 1946 & NEWER ALL STYLES\n",
        "        30\t1-STORY 1945 & OLDER\n",
        "        40\t1-STORY W/FINISHED ATTIC ALL AGES\n",
        "        45\t1-1/2 STORY - UNFINISHED ALL AGES\n",
        "        50\t1-1/2 STORY FINISHED ALL AGES\n",
        "        60\t2-STORY 1946 & NEWER\n",
        "        70\t2-STORY 1945 & OLDER\n",
        "        75\t2-1/2 STORY ALL AGES\n",
        "        80\tSPLIT OR MULTI-LEVEL\n",
        "        85\tSPLIT FOYER\n",
        "        90\tDUPLEX - ALL STYLES AND AGES\n",
        "       120\t1-STORY PUD (Planned Unit Development) - 1946 & NEWER\n",
        "       150\t1-1/2 STORY PUD - ALL AGES\n",
        "       160\t2-STORY PUD - 1946 & NEWER\n",
        "       180\tPUD - MULTILEVEL - INCL SPLIT LEV/FOYER\n",
        "       190\t2 FAMILY CONVERSION - ALL STYLES AND AGES\n",
        "\n",
        "MS_Zoning: Identifies the general zoning classification of the sale.\n",
        "\t\t\n",
        "       A\tAgriculture\n",
        "       C\tCommercial\n",
        "       FV\tFloating Village Residential\n",
        "       I\tIndustrial\n",
        "       RH\tResidential High Density\n",
        "       RL\tResidential Low Density\n",
        "       RP\tResidential Low Density Park \n",
        "       RM\tResidential Medium Density\n",
        "\n",
        "Mas_Vnr_Type: Masonry veneer type\n",
        "\n",
        "       BrkCmn\tBrick Common\n",
        "       BrkFace\tBrick Face\n",
        "       CBlock\tCinder Block\n",
        "       None\tNone\n",
        "       Stone\tStone\n",
        "\n",
        "Mo_Sold: Month Sold (MM)\n",
        "\n",
        "Neighborhood: Physical locations within Ames city limits\n",
        "\n",
        "       Blmngtn\tBloomington Heights\n",
        "       Blueste\tBluestem\n",
        "       BrDale\tBriardale\n",
        "       BrkSide\tBrookside\n",
        "       ClearCr\tClear Creek\n",
        "       CollgCr\tCollege Creek\n",
        "       Crawfor\tCrawford\n",
        "       Edwards\tEdwards\n",
        "       Gilbert\tGilbert\n",
        "       IDOTRR\tIowa DOT and Rail Road\n",
        "       MeadowV\tMeadow Village\n",
        "       Mitchel\tMitchell\n",
        "       Names\tNorth Ames\n",
        "       NoRidge\tNorthridge\n",
        "       NPkVill\tNorthpark Villa\n",
        "       NridgHt\tNorthridge Heights\n",
        "       NWAmes\tNorthwest Ames\n",
        "       OldTown\tOld Town\n",
        "       SWISU\tSouth & West of Iowa State University\n",
        "       Sawyer\tSawyer\n",
        "       SawyerW\tSawyer West\n",
        "       Somerst\tSomerset\n",
        "       StoneBr\tStone Brook\n",
        "       Timber\tTimberland\n",
        "       Veenker\tVeenker\n",
        "\t\t\t\n",
        "Overall_Cond: Rates the overall condition of the house\n",
        "\n",
        "       10\tVery Excellent\n",
        "       9\tExcellent\n",
        "       8\tVery Good\n",
        "       7\tGood\n",
        "       6\tAbove Average\t\n",
        "       5\tAverage\n",
        "       4\tBelow Average\t\n",
        "       3\tFair\n",
        "       2\tPoor\n",
        "       1\tVery Poor\n",
        "\n",
        "Overall_Qual: Rates the overall material and finish of the house\n",
        "\n",
        "       10\tVery Excellent\n",
        "       9\tExcellent\n",
        "       8\tVery Good\n",
        "       7\tGood\n",
        "       6\tAbove Average\n",
        "       5\tAverage\n",
        "       4\tBelow Average\n",
        "       3\tFair\n",
        "       2\tPoor\n",
        "       1\tVery Poor\n",
        "\n",
        "Paved_Drive: Paved driveway\n",
        "\n",
        "       Y\tPaved \n",
        "       P\tPartial Pavement\n",
        "       N\tDirt/Gravel\n",
        "\n",
        "Roof_Matl: Roof material\n",
        "\n",
        "       ClyTile\tClay or Tile\n",
        "       CompShg\tStandard (Composite) Shingle\n",
        "       Membran\tMembrane\n",
        "       Metal\tMetal\n",
        "       Roll\tRoll\n",
        "       Tar&Grv\tGravel & Tar\n",
        "       WdShake\tWood Shakes\n",
        "       WdShngl\tWood Shingles\n",
        "\n",
        "Roof_Style: Type of roof\n",
        "\n",
        "       Flat\tFlat\n",
        "       Gable\tGable\n",
        "       Gambrel\tGabrel (Barn)\n",
        "       Hip\tHip\n",
        "       Mansard\tMansard\n",
        "       Shed\tShed\n",
        "\n",
        "SalePrice: the sales price for each house\n",
        "\n",
        "Sale_Condition: Condition of sale\n",
        "\n",
        "       Normal\tNormal Sale\n",
        "       Abnorml\tAbnormal Sale -  trade, foreclosure, short sale\n",
        "       AdjLand\tAdjoining Land Purchase\n",
        "       Alloca\tAllocation - two linked properties with separate deeds, typically condo with a garage unit\t\n",
        "       Family\tSale between family members\n",
        "       Partial\tHome was not completed when last assessed (associated with New Homes)\n",
        "\n",
        "Sale_Type: Type of sale\n",
        "\t\t\n",
        "       WD \tWarranty Deed - Conventional\n",
        "       CWD\tWarranty Deed - Cash\n",
        "       VWD\tWarranty Deed - VA Loan\n",
        "       New\tHome just constructed and sold\n",
        "       COD\tCourt Officer Deed/Estate\n",
        "       Con\tContract 15% Down payment regular terms\n",
        "       ConLw\tContract Low Down payment and low interest\n",
        "       ConLI\tContract Low Interest\n",
        "       ConLD\tContract Low Down\n",
        "       Oth\tOther\n",
        "\t\n",
        "Street: Type of road access to property\n",
        "\n",
        "       Grvl\tGravel\t\n",
        "       Pave\tPaved\n",
        "       \t\n",
        "TotRms_AbvGrd: Total rooms above grade (does not include bathrooms)\n",
        "\n",
        "Utilities: Type of utilities available\n",
        "\t\t\n",
        "       AllPub\tAll public Utilities (E,G,W,& S)\t\n",
        "       NoSewr\tElectricity, Gas, and Water (Septic Tank)\n",
        "       NoSeWa\tElectricity and Gas Only\n",
        "       ELO\tElectricity only\t\n",
        "\t\n",
        "Year_Built: Original construction date\n",
        "\n",
        "Year_Remod/Add: Remodel date (same as construction date if no remodeling or additions)\n",
        "\t\t\t\t\t\t\n",
        "Yr_Sold: Year Sold (YYYY)\t\n",
        "\n",
        "```"
      ]
    }
  ]
}